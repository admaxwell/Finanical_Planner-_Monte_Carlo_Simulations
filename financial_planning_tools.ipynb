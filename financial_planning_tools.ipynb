{
 "cells": [
  {
   "cell_type": "markdown",
   "metadata": {},
   "source": [
    "# Financial Planning with APIs and Simulations\n",
    "\n",
    "In this Challenge, you’ll create two financial analysis tools by using a single Jupyter notebook:\n",
    "\n",
    "Part 1: A financial planner for emergencies. The members will be able to use this tool to visualize their current savings. The members can then determine if they have enough reserves for an emergency fund.\n",
    "\n",
    "Part 2: A financial planner for retirement. This tool will forecast the performance of their retirement portfolio in 30 years. To do this, the tool will make an Alpaca API call via the Alpaca SDK to get historical price data for use in Monte Carlo simulations.\n",
    "\n",
    "You’ll use the information from the Monte Carlo simulation to answer questions about the portfolio in your Jupyter notebook.\n",
    "\n"
   ]
  },
  {
   "cell_type": "code",
   "execution_count": 1,
   "metadata": {},
   "outputs": [],
   "source": [
    "# Import the required libraries and dependencies\n",
    "import os\n",
    "import requests\n",
    "import json\n",
    "import pandas as pd\n",
    "from dotenv import load_dotenv\n",
    "import alpaca_trade_api as tradeapi\n",
    "from MCForecastTools import MCSimulation\n",
    "\n",
    "%matplotlib inline"
   ]
  },
  {
   "cell_type": "code",
   "execution_count": 2,
   "metadata": {},
   "outputs": [
    {
     "data": {
      "text/plain": [
       "True"
      ]
     },
     "execution_count": 2,
     "metadata": {},
     "output_type": "execute_result"
    }
   ],
   "source": [
    "# Load the environment variables from the .env file\n",
    "#by calling the load_dotenv function\n",
    "load_dotenv()"
   ]
  },
  {
   "cell_type": "markdown",
   "metadata": {},
   "source": [
    "## Part 1: Create a Financial Planner for Emergencies"
   ]
  },
  {
   "cell_type": "markdown",
   "metadata": {},
   "source": [
    "### Evaluate the Cryptocurrency Wallet by Using the Requests Library\n",
    "\n",
    "In this section, you’ll determine the current value of a member’s cryptocurrency wallet. You’ll collect the current prices for the Bitcoin and Ethereum cryptocurrencies by using the Python Requests library. For the prototype, you’ll assume that the member holds the 1.2 Bitcoins (BTC) and 5.3 Ethereum coins (ETH). To do all this, complete the following steps:\n",
    "\n",
    "1. Create a variable named `monthly_income`, and set its value to `12000`.\n",
    "\n",
    "2. Use the Requests library to get the current price (in US dollars) of Bitcoin (BTC) and Ethereum (ETH) by using the API endpoints that the starter code supplies.\n",
    "\n",
    "3. Navigate the JSON response object to access the current price of each coin, and store each in a variable.\n",
    "\n",
    "    > **Hint** Note the specific identifier for each cryptocurrency in the API JSON response. The Bitcoin identifier is `1`, and the Ethereum identifier is `1027`.\n",
    "\n",
    "4. Calculate the value, in US dollars, of the current amount of each cryptocurrency and of the entire cryptocurrency wallet.\n",
    "\n"
   ]
  },
  {
   "cell_type": "code",
   "execution_count": 3,
   "metadata": {},
   "outputs": [],
   "source": [
    "# The current number of coins for each cryptocurrency asset held in the portfolio.\n",
    "btc_coins = 1.2\n",
    "eth_coins = 5.3"
   ]
  },
  {
   "cell_type": "markdown",
   "metadata": {},
   "source": [
    "#### Step 1: Create a variable named `monthly_income`, and set its value to `12000`."
   ]
  },
  {
   "cell_type": "code",
   "execution_count": 4,
   "metadata": {},
   "outputs": [],
   "source": [
    "# The monthly amount for the member's household income\n",
    "monthly_income = 12000\n"
   ]
  },
  {
   "cell_type": "markdown",
   "metadata": {},
   "source": [
    "#### Review the endpoint URLs for the API calls to Free Crypto API in order to get the current pricing information for both BTC and ETH."
   ]
  },
  {
   "cell_type": "code",
   "execution_count": 5,
   "metadata": {},
   "outputs": [],
   "source": [
    "# The Free Crypto API Call endpoint URLs for the held cryptocurrency assets\n",
    "btc_url = \"https://api.alternative.me/v2/ticker/Bitcoin/?convert=USD\"\n",
    "eth_url = \"https://api.alternative.me/v2/ticker/Ethereum/?convert=USD\""
   ]
  },
  {
   "cell_type": "markdown",
   "metadata": {},
   "source": [
    "#### Step 2. Use the Requests library to get the current price (in US dollars) of Bitcoin (BTC) and Ethereum (ETH) by using the API endpoints that the starter code supplied."
   ]
  },
  {
   "cell_type": "code",
   "execution_count": 6,
   "metadata": {},
   "outputs": [
    {
     "name": "stdout",
     "output_type": "stream",
     "text": [
      "{\n",
      "    \"data\": {\n",
      "        \"1\": {\n",
      "            \"circulating_supply\": 19144200,\n",
      "            \"id\": 1,\n",
      "            \"last_updated\": 1662579872,\n",
      "            \"max_supply\": 21000000,\n",
      "            \"name\": \"Bitcoin\",\n",
      "            \"quotes\": {\n",
      "                \"USD\": {\n",
      "                    \"market_cap\": 365892284905,\n",
      "                    \"percent_change_1h\": 0.625120728062321,\n",
      "                    \"percent_change_24h\": 1.30480776747808,\n",
      "                    \"percent_change_7d\": -3.48743283579846,\n",
      "                    \"percentage_change_1h\": 0.625120728062321,\n",
      "                    \"percentage_change_24h\": 1.30480776747808,\n",
      "                    \"percentage_change_7d\": -3.48743283579846,\n",
      "                    \"price\": 19114.65,\n",
      "                    \"volume_24h\": 30301554271\n",
      "                }\n",
      "            },\n",
      "            \"rank\": 1,\n",
      "            \"symbol\": \"BTC\",\n",
      "            \"total_supply\": 19144200,\n",
      "            \"website_slug\": \"bitcoin\"\n",
      "        }\n",
      "    },\n",
      "    \"metadata\": {\n",
      "        \"error\": null,\n",
      "        \"num_cryptocurrencies\": 3116,\n",
      "        \"timestamp\": 1662579872\n",
      "    }\n",
      "}\n"
     ]
    }
   ],
   "source": [
    "# Using the Python requests library, make an API call to access the current price of BTC\n",
    "btc_response = requests.get(btc_url).json()\n",
    "\n",
    "# Use the json.dumps function to review the response data from the API call\n",
    "# Use the indent and sort_keys parameters to make the response object readable\n",
    "\n",
    "print(json.dumps(btc_response, indent = 4, sort_keys = True))"
   ]
  },
  {
   "cell_type": "code",
   "execution_count": 7,
   "metadata": {},
   "outputs": [
    {
     "name": "stdout",
     "output_type": "stream",
     "text": [
      "{\n",
      "    \"data\": {\n",
      "        \"1027\": {\n",
      "            \"circulating_supply\": 120424164,\n",
      "            \"id\": 1027,\n",
      "            \"last_updated\": 1662579873,\n",
      "            \"max_supply\": 120424164,\n",
      "            \"name\": \"Ethereum\",\n",
      "            \"quotes\": {\n",
      "                \"USD\": {\n",
      "                    \"market_cap\": 189663672051,\n",
      "                    \"percent_change_1h\": 0.29013895212661,\n",
      "                    \"percent_change_24h\": -0.169954581350672,\n",
      "                    \"percent_change_7d\": 3.23672891464222,\n",
      "                    \"percentage_change_1h\": 0.29013895212661,\n",
      "                    \"percentage_change_24h\": -0.169954581350672,\n",
      "                    \"percentage_change_7d\": 3.23672891464222,\n",
      "                    \"price\": 1574.77,\n",
      "                    \"volume_24h\": 16372133239\n",
      "                }\n",
      "            },\n",
      "            \"rank\": 2,\n",
      "            \"symbol\": \"ETH\",\n",
      "            \"total_supply\": 120424164,\n",
      "            \"website_slug\": \"ethereum\"\n",
      "        }\n",
      "    },\n",
      "    \"metadata\": {\n",
      "        \"error\": null,\n",
      "        \"num_cryptocurrencies\": 3116,\n",
      "        \"timestamp\": 1662579873\n",
      "    }\n",
      "}\n"
     ]
    }
   ],
   "source": [
    "# Using the Python requests library, make an API call to access the current price ETH\n",
    "eth_response = requests.get(eth_url).json()\n",
    "\n",
    "# Use the json.dumps function to review the response data from the API call\n",
    "# Use the indent and sort_keys parameters to make the response object readable\n",
    "\n",
    "print(json.dumps(eth_response, indent = 4, sort_keys = True))"
   ]
  },
  {
   "cell_type": "markdown",
   "metadata": {},
   "source": [
    "#### Step 3: Navigate the JSON response object to access the current price of each coin, and store each in a variable."
   ]
  },
  {
   "cell_type": "code",
   "execution_count": 8,
   "metadata": {},
   "outputs": [
    {
     "name": "stdout",
     "output_type": "stream",
     "text": [
      "The current price of BTC is $ 19114.65\n"
     ]
    }
   ],
   "source": [
    "# Navigate the BTC response object to access the current price of BTC\n",
    "btc_price = btc_response[\"data\"][\"1\"][\"quotes\"][\"USD\"][\"price\"]\n",
    "\n",
    "# Print the current price of BTC\n",
    "print(f\"The current price of BTC is ${btc_price: .2f}\")\n"
   ]
  },
  {
   "cell_type": "code",
   "execution_count": 9,
   "metadata": {},
   "outputs": [
    {
     "name": "stdout",
     "output_type": "stream",
     "text": [
      "The current price of ETH is $ 1574.77\n"
     ]
    }
   ],
   "source": [
    "# Navigate the BTC response object to access the current price of ETH\n",
    "eth_price =  eth_response[\"data\"][\"1027\"][\"quotes\"][\"USD\"][\"price\"]\n",
    "\n",
    "# Print the current price of ETH\n",
    "print(f\"The current price of ETH is ${eth_price: .2f}\")\n",
    "\n"
   ]
  },
  {
   "cell_type": "markdown",
   "metadata": {},
   "source": [
    "### Step 4: Calculate the value, in US dollars, of the current amount of each cryptocurrency and of the entire cryptocurrency wallet."
   ]
  },
  {
   "cell_type": "code",
   "execution_count": 10,
   "metadata": {},
   "outputs": [
    {
     "name": "stdout",
     "output_type": "stream",
     "text": [
      "The member's current value of their Bitcoin wallet is $ 22937.58\n"
     ]
    }
   ],
   "source": [
    "# Compute the current value of the BTC holding \n",
    "btc_value = (btc_coins *btc_price)\n",
    "\n",
    "# Print current value of your holding in BTC\n",
    "print(f\"The member's current value of their Bitcoin wallet is ${btc_value: .2f}\")\n"
   ]
  },
  {
   "cell_type": "code",
   "execution_count": 11,
   "metadata": {},
   "outputs": [
    {
     "name": "stdout",
     "output_type": "stream",
     "text": [
      "The member's current value of their Ethereum wallet is $ 8346.28\n"
     ]
    }
   ],
   "source": [
    "# Compute the current value of the ETH holding \n",
    "eth_value = (eth_coins * eth_price)\n",
    "\n",
    "# Print current value of your holding in ETH\n",
    "\n",
    "print(f\"The member's current value of their Ethereum wallet is ${eth_value: .2f}\")\n"
   ]
  },
  {
   "cell_type": "code",
   "execution_count": 12,
   "metadata": {},
   "outputs": [
    {
     "name": "stdout",
     "output_type": "stream",
     "text": [
      "The total holding for the member's crypto wallet is  31283.86\n"
     ]
    }
   ],
   "source": [
    "# Compute the total value of the cryptocurrency wallet\n",
    "# Add the value of the BTC holding to the value of the ETH holding\n",
    "total_crypto_wallet = (btc_value + eth_value)\n",
    "\n",
    "# Print current cryptocurrency wallet balance\n",
    "print(f\"The total holding for the member's crypto wallet is {total_crypto_wallet: .2f}\")\n"
   ]
  },
  {
   "cell_type": "markdown",
   "metadata": {},
   "source": [
    "### Evaluate the Stock and Bond Holdings by Using the Alpaca SDK\n",
    "\n",
    "In this section, you’ll determine the current value of a member’s stock and bond holdings. You’ll make an API call to Alpaca via the Alpaca SDK to get the current closing prices of the SPDR S&P 500 ETF Trust (ticker: SPY) and of the iShares Core US Aggregate Bond ETF (ticker: AGG). For the prototype, assume that the member holds 110 shares of SPY, which represents the stock portion of their portfolio, and 200 shares of AGG, which represents the bond portion. To do all this, complete the following steps:\n",
    "\n",
    "1. In the `Starter_Code` folder, create an environment file (`.env`) to store the values of your Alpaca API key and Alpaca secret key.\n",
    "\n",
    "2. Set the variables for the Alpaca API and secret keys. Using the Alpaca SDK, create the Alpaca `tradeapi.REST` object. In this object, include the parameters for the Alpaca API key, the secret key, and the version number.\n",
    "\n",
    "3. Set the following parameters for the Alpaca API call:\n",
    "\n",
    "    - `tickers`: Use the tickers for the member’s stock and bond holdings.\n",
    "\n",
    "    - `timeframe`: Use a time frame of one day.\n",
    "\n",
    "    - `start_date` and `end_date`: Use the same date for these parameters, and format them with the date of the previous weekday (or `2020-08-07`). This is because you want the one closing price for the most-recent trading day.\n",
    "\n",
    "4. Get the current closing prices for `SPY` and `AGG` by using the Alpaca `get_bars` function. Format the response as a Pandas DataFrame by including the `df` property at the end of the `get_bars` function.\n",
    "\n",
    "5. Navigating the Alpaca response DataFrame, select the `SPY` and `AGG` closing prices, and store them as variables.\n",
    "\n",
    "6. Calculate the value, in US dollars, of the current amount of shares in each of the stock and bond portions of the portfolio, and print the results.\n"
   ]
  },
  {
   "cell_type": "markdown",
   "metadata": {},
   "source": [
    "#### Review the total number of shares held in both (SPY) and (AGG)."
   ]
  },
  {
   "cell_type": "code",
   "execution_count": 13,
   "metadata": {},
   "outputs": [],
   "source": [
    "# Current amount of shares held in both the stock (SPY) and bond (AGG) portion of the portfolio.\n",
    "spy_shares = 110\n",
    "agg_shares = 200\n"
   ]
  },
  {
   "cell_type": "markdown",
   "metadata": {},
   "source": [
    "#### Step 1: In the `Starter_Code` folder, create an environment file (`.env`) to store the values of your Alpaca API key and Alpaca secret key."
   ]
  },
  {
   "cell_type": "markdown",
   "metadata": {},
   "source": [
    "#### Step 2: Set the variables for the Alpaca API and secret keys. Using the Alpaca SDK, create the Alpaca `tradeapi.REST` object. In this object, include the parameters for the Alpaca API key, the secret key, and the version number."
   ]
  },
  {
   "cell_type": "code",
   "execution_count": 14,
   "metadata": {},
   "outputs": [],
   "source": [
    "# Set the variables for the Alpaca API and secret keys\n",
    "alpaca_api_key = os.getenv(\"ALPACA_API_KEY\")\n",
    "alpaca_secret_key = os.getenv(\"ALPACA_SECRET_KEY\")\n",
    "\n",
    "# Create the Alpaca tradeapi.REST object\n",
    "alpaca = tradeapi.REST(\n",
    "    alpaca_api_key,\n",
    "    alpaca_secret_key,\n",
    "    api_version = \"v2\"\n",
    ")\n"
   ]
  },
  {
   "cell_type": "markdown",
   "metadata": {},
   "source": [
    "#### Step 3: Set the following parameters for the Alpaca API call:\n",
    "\n",
    "- `tickers`: Use the tickers for the member’s stock and bond holdings.\n",
    "\n",
    "- `timeframe`: Use a time frame of one day.\n",
    "\n",
    "- `start_date` and `end_date`: Use the same date for these parameters, and format them with the date of the previous weekday (or `2020-08-07`). This is because you want the one closing price for the most-recent trading day.\n"
   ]
  },
  {
   "cell_type": "code",
   "execution_count": 15,
   "metadata": {},
   "outputs": [],
   "source": [
    "# Set the tickers for both the bond and stock portion of the portfolio\n",
    "tickers = [\"SPY\", \"AGG\"]\n",
    "\n",
    "# Set timeframe to 1Day\n",
    "timeframe = \"1Day\"\n",
    "\n",
    "# Format current date as ISO format\n",
    "# Set both the start and end date at the date of your prior weekday \n",
    "# This will give you the closing price of the previous trading day\n",
    "# Alternatively you can use a start and end date of 2020-08-07\n",
    "\n",
    "start_date = pd.Timestamp(\"2022-07-29\", tz = \"America/New_York\").isoformat()\n",
    "end_date = pd.Timestamp(\"2022-07-29\", tz = \"America/New_York\").isoformat()\n",
    "\n"
   ]
  },
  {
   "cell_type": "markdown",
   "metadata": {},
   "source": [
    "#### Step 4: Get the current closing prices for `SPY` and `AGG` by using the Alpaca `get_bars` function. Format the response as a Pandas DataFrame by including the `df` property at the end of the `get_bars` function."
   ]
  },
  {
   "cell_type": "code",
   "execution_count": 16,
   "metadata": {},
   "outputs": [
    {
     "data": {
      "text/html": [
       "<div>\n",
       "<style scoped>\n",
       "    .dataframe tbody tr th:only-of-type {\n",
       "        vertical-align: middle;\n",
       "    }\n",
       "\n",
       "    .dataframe tbody tr th {\n",
       "        vertical-align: top;\n",
       "    }\n",
       "\n",
       "    .dataframe thead tr th {\n",
       "        text-align: left;\n",
       "    }\n",
       "\n",
       "    .dataframe thead tr:last-of-type th {\n",
       "        text-align: right;\n",
       "    }\n",
       "</style>\n",
       "<table border=\"1\" class=\"dataframe\">\n",
       "  <thead>\n",
       "    <tr>\n",
       "      <th></th>\n",
       "      <th colspan=\"7\" halign=\"left\">SPY</th>\n",
       "      <th colspan=\"7\" halign=\"left\">AGG</th>\n",
       "    </tr>\n",
       "    <tr>\n",
       "      <th></th>\n",
       "      <th>open</th>\n",
       "      <th>high</th>\n",
       "      <th>low</th>\n",
       "      <th>close</th>\n",
       "      <th>volume</th>\n",
       "      <th>trade_count</th>\n",
       "      <th>vwap</th>\n",
       "      <th>open</th>\n",
       "      <th>high</th>\n",
       "      <th>low</th>\n",
       "      <th>close</th>\n",
       "      <th>volume</th>\n",
       "      <th>trade_count</th>\n",
       "      <th>vwap</th>\n",
       "    </tr>\n",
       "    <tr>\n",
       "      <th>timestamp</th>\n",
       "      <th></th>\n",
       "      <th></th>\n",
       "      <th></th>\n",
       "      <th></th>\n",
       "      <th></th>\n",
       "      <th></th>\n",
       "      <th></th>\n",
       "      <th></th>\n",
       "      <th></th>\n",
       "      <th></th>\n",
       "      <th></th>\n",
       "      <th></th>\n",
       "      <th></th>\n",
       "      <th></th>\n",
       "    </tr>\n",
       "  </thead>\n",
       "  <tbody>\n",
       "    <tr>\n",
       "      <th>2022-07-29 04:00:00+00:00</th>\n",
       "      <td>407.7</td>\n",
       "      <td>413.02</td>\n",
       "      <td>406.77</td>\n",
       "      <td>411.99</td>\n",
       "      <td>86779944</td>\n",
       "      <td>544810</td>\n",
       "      <td>410.668581</td>\n",
       "      <td>103.94</td>\n",
       "      <td>104.395</td>\n",
       "      <td>103.83</td>\n",
       "      <td>104.07</td>\n",
       "      <td>6523118</td>\n",
       "      <td>22800</td>\n",
       "      <td>104.156714</td>\n",
       "    </tr>\n",
       "  </tbody>\n",
       "</table>\n",
       "</div>"
      ],
      "text/plain": [
       "                             SPY                                    \\\n",
       "                            open    high     low   close    volume   \n",
       "timestamp                                                            \n",
       "2022-07-29 04:00:00+00:00  407.7  413.02  406.77  411.99  86779944   \n",
       "\n",
       "                                                      AGG                   \\\n",
       "                          trade_count        vwap    open     high     low   \n",
       "timestamp                                                                    \n",
       "2022-07-29 04:00:00+00:00      544810  410.668581  103.94  104.395  103.83   \n",
       "\n",
       "                                                                    \n",
       "                            close   volume trade_count        vwap  \n",
       "timestamp                                                           \n",
       "2022-07-29 04:00:00+00:00  104.07  6523118       22800  104.156714  "
      ]
     },
     "metadata": {},
     "output_type": "display_data"
    }
   ],
   "source": [
    "# Use the Alpaca get_bars function to get current closing prices the portfolio\n",
    "# Be sure to set the `df` property after the function to format the response object as a DataFrame\n",
    "prices_df = alpaca.get_bars(\n",
    "    tickers,\n",
    "    timeframe,\n",
    "    start = start_date,\n",
    "    end = end_date\n",
    ").df\n",
    "\n",
    "# Reorganize the DataFrame\n",
    "# Separate ticker data\n",
    "\n",
    "SPY = prices_df[prices_df[\"symbol\"]== \"SPY\"].drop(\"symbol\", axis=1)\n",
    "AGG = prices_df[prices_df[\"symbol\"]== \"AGG\"].drop(\"symbol\", axis=1)\n",
    "\n",
    "# Concatenate the ticker DataFrames\n",
    "prices_df = pd.concat([SPY,AGG],axis =1, keys = [\"SPY\", \"AGG\"])\n",
    "\n",
    "#prices_df.index = prices_df.index.date\n",
    "\n",
    "# Review the first 5 rows of the Alpaca DataFrame\n",
    "display(prices_df.head())\n"
   ]
  },
  {
   "cell_type": "markdown",
   "metadata": {},
   "source": [
    "#### Step 5: Navigating the Alpaca response DataFrame, select the `SPY` and `AGG` closing prices, and store them as variables."
   ]
  },
  {
   "cell_type": "code",
   "execution_count": 17,
   "metadata": {},
   "outputs": [
    {
     "name": "stdout",
     "output_type": "stream",
     "text": [
      "The current price of AGG is 104.07\n"
     ]
    }
   ],
   "source": [
    "# Access the closing price for AGG from the Alpaca DataFrame\n",
    "# Converting the value to a floating point number\n",
    "agg_close_price = float(prices_df[\"AGG\"][\"close\"])\n",
    "\n",
    "# Print the AGG closing price\n",
    "print(f\"The current price of AGG is {agg_close_price}\")\n"
   ]
  },
  {
   "cell_type": "code",
   "execution_count": 18,
   "metadata": {},
   "outputs": [
    {
     "name": "stdout",
     "output_type": "stream",
     "text": [
      "The current price of AGG is 411.99\n"
     ]
    }
   ],
   "source": [
    "# Access the closing price for SPY from the Alpaca DataFrame\n",
    "# Converting the value to a floating point number\n",
    "spy_close_price =float(prices_df[\"SPY\"][\"close\"])\n",
    "\n",
    "# Print the SPY closing price\n",
    "print(f\"The current price of AGG is {spy_close_price}\")\n"
   ]
  },
  {
   "cell_type": "markdown",
   "metadata": {},
   "source": [
    "#### Step 6: Calculate the value, in US dollars, of the current amount of shares in each of the stock and bond portions of the portfolio, and print the results."
   ]
  },
  {
   "cell_type": "code",
   "execution_count": 19,
   "metadata": {},
   "outputs": [
    {
     "name": "stdout",
     "output_type": "stream",
     "text": [
      "The current bond value of member's portfolio is  20814.00\n"
     ]
    }
   ],
   "source": [
    "# Calculate the current value of the bond portion of the portfolio\n",
    "agg_value = (agg_shares * agg_close_price)\n",
    "\n",
    "# Print the current value of the bond portfolio\n",
    "# YOUR CODE HERE\n",
    "print(f\"The current bond value of member's portfolio is {agg_value: .2f}\")"
   ]
  },
  {
   "cell_type": "code",
   "execution_count": 20,
   "metadata": {},
   "outputs": [
    {
     "name": "stdout",
     "output_type": "stream",
     "text": [
      "The current bond value of member's portfolio is  45318.90\n"
     ]
    }
   ],
   "source": [
    "# Calculate the current value of the stock portion of the portfolio\n",
    "spy_value = (spy_shares * spy_close_price)\n",
    "\n",
    "# Print the current value of the stock portfolio\n",
    "\n",
    "print(f\"The current bond value of member's portfolio is {spy_value: .2f}\")"
   ]
  },
  {
   "cell_type": "code",
   "execution_count": 21,
   "metadata": {},
   "outputs": [
    {
     "name": "stdout",
     "output_type": "stream",
     "text": [
      "The current total balance of the member's stock/bond portfolio is  66132.90\n"
     ]
    }
   ],
   "source": [
    "# Calculate the total value of the stock and bond portion of the portfolio\n",
    "total_stocks_bonds = (spy_value + agg_value)\n",
    "\n",
    "# Print the current balance of the stock and bond portion of the portfolio\n",
    "print(f\"The current total balance of the member's stock/bond portfolio is {total_stocks_bonds: .2f}\")\n"
   ]
  },
  {
   "cell_type": "code",
   "execution_count": 22,
   "metadata": {},
   "outputs": [
    {
     "name": "stdout",
     "output_type": "stream",
     "text": [
      "The current value of member's savings portfolio is  97416.76\n"
     ]
    }
   ],
   "source": [
    "# Calculate the total value of the member's entire savings portfolio\n",
    "# Add the value of the cryptocurrency walled to the value of the total stocks and bonds\n",
    "total_portfolio = (total_crypto_wallet + total_stocks_bonds)\n",
    "\n",
    "# Print current cryptocurrency wallet balance\n",
    "\n",
    "print(f\"The current value of member's savings portfolio is {total_portfolio: .2f}\")"
   ]
  },
  {
   "cell_type": "markdown",
   "metadata": {},
   "source": [
    "### Evaluate the Emergency Fund\n",
    "\n",
    "In this section, you’ll use the valuations for the cryptocurrency wallet and for the stock and bond portions of the portfolio to determine if the credit union member has enough savings to build an emergency fund into their financial plan. To do this, complete the following steps:\n",
    "\n",
    "1. Create a Python list named `savings_data` that has two elements. The first element contains the total value of the cryptocurrency wallet. The second element contains the total value of the stock and bond portions of the portfolio.\n",
    "\n",
    "2. Use the `savings_data` list to create a Pandas DataFrame named `savings_df`, and then display this DataFrame. The function to create the DataFrame should take the following three parameters:\n",
    "\n",
    "    - `savings_data`: Use the list that you just created.\n",
    "\n",
    "    - `columns`: Set this parameter equal to a Python list with a single value called `amount`.\n",
    "\n",
    "    - `index`: Set this parameter equal to a Python list with the values of `crypto` and `stock/bond`.\n",
    "\n",
    "3. Use the `savings_df` DataFrame to plot a pie chart that visualizes the composition of the member’s portfolio. The y-axis of the pie chart uses `amount`. Be sure to add a title.\n",
    "\n",
    "4. Using Python, determine if the current portfolio has enough to create an emergency fund as part of the member’s financial plan. Ideally, an emergency fund should equal to three times the member’s monthly income. To do this, implement the following steps:\n",
    "\n",
    "    1. Create a variable named `emergency_fund_value`, and set it equal to three times the value of the member’s `monthly_income` of $12000. (You set this earlier in Part 1).\n",
    "\n",
    "    2. Create a series of three if statements to determine if the member’s total portfolio is large enough to fund the emergency portfolio:\n",
    "\n",
    "        1. If the total portfolio value is greater than the emergency fund value, display a message congratulating the member for having enough money in this fund.\n",
    "\n",
    "        2. Else if the total portfolio value is equal to the emergency fund value, display a message congratulating the member on reaching this important financial goal.\n",
    "\n",
    "        3. Else the total portfolio is less than the emergency fund value, so display a message showing how many dollars away the member is from reaching the goal. (Subtract the total portfolio value from the emergency fund value.)\n"
   ]
  },
  {
   "cell_type": "markdown",
   "metadata": {},
   "source": [
    "#### Step 1: Create a Python list named `savings_data` that has two elements. The first element contains the total value of the cryptocurrency wallet. The second element contains the total value of the stock and bond portions of the portfolio."
   ]
  },
  {
   "cell_type": "code",
   "execution_count": 23,
   "metadata": {},
   "outputs": [
    {
     "data": {
      "text/plain": [
       "[31283.861, 66132.9]"
      ]
     },
     "execution_count": 23,
     "metadata": {},
     "output_type": "execute_result"
    }
   ],
   "source": [
    "# Consolidate financial assets data into a Python list\n",
    "savings_data = [total_crypto_wallet, total_stocks_bonds]\n",
    "\n",
    "# Review the Python list savings_data\n",
    "savings_data\n",
    "    "
   ]
  },
  {
   "cell_type": "markdown",
   "metadata": {},
   "source": [
    "#### Step 2: Use the `savings_data` list to create a Pandas DataFrame named `savings_df`, and then display this DataFrame. The function to create the DataFrame should take the following three parameters:\n",
    "\n",
    "- `savings_data`: Use the list that you just created.\n",
    "\n",
    "- `columns`: Set this parameter equal to a Python list with a single value called `amount`.\n",
    "\n",
    "- `index`: Set this parameter equal to a Python list with the values of `crypto` and `stock/bond`.\n"
   ]
  },
  {
   "cell_type": "code",
   "execution_count": 24,
   "metadata": {},
   "outputs": [
    {
     "data": {
      "text/html": [
       "<div>\n",
       "<style scoped>\n",
       "    .dataframe tbody tr th:only-of-type {\n",
       "        vertical-align: middle;\n",
       "    }\n",
       "\n",
       "    .dataframe tbody tr th {\n",
       "        vertical-align: top;\n",
       "    }\n",
       "\n",
       "    .dataframe thead th {\n",
       "        text-align: right;\n",
       "    }\n",
       "</style>\n",
       "<table border=\"1\" class=\"dataframe\">\n",
       "  <thead>\n",
       "    <tr style=\"text-align: right;\">\n",
       "      <th></th>\n",
       "      <th>amount</th>\n",
       "    </tr>\n",
       "  </thead>\n",
       "  <tbody>\n",
       "    <tr>\n",
       "      <th>crypto</th>\n",
       "      <td>31283.861</td>\n",
       "    </tr>\n",
       "    <tr>\n",
       "      <th>stock/bond</th>\n",
       "      <td>66132.900</td>\n",
       "    </tr>\n",
       "  </tbody>\n",
       "</table>\n",
       "</div>"
      ],
      "text/plain": [
       "               amount\n",
       "crypto      31283.861\n",
       "stock/bond  66132.900"
      ]
     },
     "metadata": {},
     "output_type": "display_data"
    }
   ],
   "source": [
    "# Create a Pandas DataFrame called savings_df \n",
    "savings_df = pd.DataFrame(\n",
    "    savings_data,\n",
    "    columns = [\"amount\"],\n",
    "    index = [\"crypto\", \"stock/bond\"] \n",
    ")\n",
    "# Display the savings_df DataFrame\n",
    "\n",
    "display(savings_df.head())\n",
    "\n",
    "\n",
    "# savings_df = pd.DataFrame(\n",
    "#     {'Amount':[total_crypto_wallet, total_stocks_bonds]},\n",
    "#     index=['Crypto', 'Stock/Bond']"
   ]
  },
  {
   "cell_type": "markdown",
   "metadata": {},
   "source": [
    "#### Step 3: Use the `savings_df` DataFrame to plot a pie chart that visualizes the composition of the member’s portfolio. The y-axis of the pie chart uses `amount`. Be sure to add a title."
   ]
  },
  {
   "cell_type": "code",
   "execution_count": 25,
   "metadata": {},
   "outputs": [
    {
     "data": {
      "text/plain": [
       "<AxesSubplot:title={'center':'Savings Portfolio'}, ylabel='amount'>"
      ]
     },
     "execution_count": 25,
     "metadata": {},
     "output_type": "execute_result"
    },
    {
     "data": {
      "image/png": "[encoded data removed]",
      "text/plain": [
       "<Figure size 720x504 with 1 Axes>"
      ]
     },
     "metadata": {},
     "output_type": "display_data"
    }
   ],
   "source": [
    "# Plot the total value of the member's portfolio (crypto and stock/bond) in a pie chart\n",
    "\n",
    "savings_df.plot.pie(figsize = (10, 7), y = \"amount\", title = \"Savings Portfolio\")\n"
   ]
  },
  {
   "cell_type": "markdown",
   "metadata": {},
   "source": [
    "#### Step 4: Using Python, determine if the current portfolio has enough to create an emergency fund as part of the member’s financial plan. Ideally, an emergency fund should equal to three times the member’s monthly income. To do this, implement the following steps:\n",
    "\n",
    "Step 1. Create a variable named `emergency_fund_value`, and set it equal to three times the value of the member’s `monthly_income` of 12000. (You set this earlier in Part 1).\n",
    "\n",
    "Step 2. Create a series of three if statements to determine if the member’s total portfolio is large enough to fund the emergency portfolio:\n",
    "\n",
    "* If the total portfolio value is greater than the emergency fund value, display a message congratulating the member for having enough money in this fund.\n",
    "\n",
    "* Else if the total portfolio value is equal to the emergency fund value, display a message congratulating the member on reaching this important financial goal.\n",
    "\n",
    "* Else the total portfolio is less than the emergency fund value, so display a message showing how many dollars away the member is from reaching the goal. (Subtract the total portfolio value from the emergency fund value.)\n"
   ]
  },
  {
   "cell_type": "markdown",
   "metadata": {},
   "source": [
    "##### Step 4-1: Create a variable named `emergency_fund_value`, and set it equal to three times the value of the member’s `monthly_income` of 12000. (You set this earlier in Part 1)."
   ]
  },
  {
   "cell_type": "code",
   "execution_count": 26,
   "metadata": {},
   "outputs": [
    {
     "data": {
      "text/plain": [
       "36000"
      ]
     },
     "execution_count": 26,
     "metadata": {},
     "output_type": "execute_result"
    }
   ],
   "source": [
    "# Create a variable named emergency_fund_value\n",
    "emergency_fund_value = (monthly_income * 3)\n",
    "\n",
    "emergency_fund_value"
   ]
  },
  {
   "cell_type": "markdown",
   "metadata": {},
   "source": [
    "##### Step 4-2: Create a series of three if statements to determine if the member’s total portfolio is large enough to fund the emergency portfolio:\n",
    "\n",
    "* If the total portfolio value is greater than the emergency fund value, display a message congratulating the member for having enough money in this fund.\n",
    "\n",
    "* Else if the total portfolio value is equal to the emergency fund value, display a message congratulating the member on reaching this important financial goal.\n",
    "\n",
    "* Else the total portfolio is less than the emergency fund value, so display a message showing how many dollars away the member is from reaching the goal. (Subtract the total portfolio value from the emergency fund value.)"
   ]
  },
  {
   "cell_type": "code",
   "execution_count": 27,
   "metadata": {},
   "outputs": [
    {
     "name": "stdout",
     "output_type": "stream",
     "text": [
      "Dear member congratulations! You have enough money in your portfolio to start an emergency fund!\n"
     ]
    }
   ],
   "source": [
    "# Evaluate the possibility of creating an emergency fund with 3 conditions:\n",
    "if total_portfolio > emergency_fund_value:\n",
    "    print(\"Dear member congratulations! You have enough money in your portfolio to start an emergency fund!\")\n",
    "    \n",
    "elif total_portfolio == emergency_fund_value:\n",
    "    print(\"Dear member congratulation on reaching this important financial goal\")\n",
    "        \n",
    "else:\n",
    "    total_portfolio < emergency_fund_value\n",
    "    print(f\"Dear member im sorry to inform you that you do not have enough money in your portfolio to start an emergency\"\n",
    "          f\"fund. You are {total_portfolio - emergency_fund_value: .2f} away from reaching your finanical goal.\")\n",
    "    \n"
   ]
  },
  {
   "cell_type": "markdown",
   "metadata": {},
   "source": [
    "## Part 2: Create a Financial Planner for Retirement"
   ]
  },
  {
   "cell_type": "markdown",
   "metadata": {},
   "source": [
    "### Create the Monte Carlo Simulation\n",
    "\n",
    "In this section, you’ll use the MCForecastTools library to create a Monte Carlo simulation for the member’s savings portfolio. To do this, complete the following steps:\n",
    "\n",
    "1. Make an API call via the Alpaca SDK to get 3 years of historical closing prices for a traditional 60/40 portfolio split: 60% stocks (SPY) and 40% bonds (AGG).\n",
    "\n",
    "2. Run a Monte Carlo simulation of 500 samples and 30 years for the 60/40 portfolio, and then plot the results.The following image shows the overlay line plot resulting from a simulation with these characteristics. However, because a random number generator is used to run each live Monte Carlo simulation, your image will differ slightly from this exact image:\n",
    "\n",
    "![A screenshot depicts the resulting plot.](Images/5-4-monte-carlo-line-plot.png)\n",
    "\n",
    "3. Plot the probability distribution of the Monte Carlo simulation. Plot the probability distribution of the Monte Carlo simulation. The following image shows the histogram plot resulting from a simulation with these characteristics. However, because a random number generator is used to run each live Monte Carlo simulation, your image will differ slightly from this exact image:\n",
    "\n",
    "![A screenshot depicts the histogram plot.](Images/5-4-monte-carlo-histogram.png)\n",
    "\n",
    "4. Generate the summary statistics for the Monte Carlo simulation.\n",
    "\n"
   ]
  },
  {
   "cell_type": "markdown",
   "metadata": {},
   "source": [
    "#### Step 1: Make an API call via the Alpaca SDK to get 3 years of historical closing prices for a traditional 60/40 portfolio split: 60% stocks (SPY) and 40% bonds (AGG)."
   ]
  },
  {
   "cell_type": "code",
   "execution_count": 28,
   "metadata": {},
   "outputs": [],
   "source": [
    "# Set start and end dates of 3 years back from your current date\n",
    "# Alternatively, you can use an end date of 2020-08-07 and work 3 years back from that date \n",
    "start_date = pd.Timestamp(\"2019-07-29\", tz = \"America/New_York\").isoformat()\n",
    "end_date = pd.Timestamp(\"2022-07-29\", tz = \"America/New_York\").isoformat()\n",
    "\n",
    "\n",
    "\n",
    "# Set number of rows to 1000 to retrieve the maximum amount of rows\n",
    "num_of_rows = 1000"
   ]
  },
  {
   "cell_type": "code",
   "execution_count": 29,
   "metadata": {},
   "outputs": [
    {
     "data": {
      "text/html": [
       "<div>\n",
       "<style scoped>\n",
       "    .dataframe tbody tr th:only-of-type {\n",
       "        vertical-align: middle;\n",
       "    }\n",
       "\n",
       "    .dataframe tbody tr th {\n",
       "        vertical-align: top;\n",
       "    }\n",
       "\n",
       "    .dataframe thead tr th {\n",
       "        text-align: left;\n",
       "    }\n",
       "\n",
       "    .dataframe thead tr:last-of-type th {\n",
       "        text-align: right;\n",
       "    }\n",
       "</style>\n",
       "<table border=\"1\" class=\"dataframe\">\n",
       "  <thead>\n",
       "    <tr>\n",
       "      <th></th>\n",
       "      <th colspan=\"7\" halign=\"left\">SPY</th>\n",
       "      <th colspan=\"7\" halign=\"left\">AGG</th>\n",
       "    </tr>\n",
       "    <tr>\n",
       "      <th></th>\n",
       "      <th>open</th>\n",
       "      <th>high</th>\n",
       "      <th>low</th>\n",
       "      <th>close</th>\n",
       "      <th>volume</th>\n",
       "      <th>trade_count</th>\n",
       "      <th>vwap</th>\n",
       "      <th>open</th>\n",
       "      <th>high</th>\n",
       "      <th>low</th>\n",
       "      <th>close</th>\n",
       "      <th>volume</th>\n",
       "      <th>trade_count</th>\n",
       "      <th>vwap</th>\n",
       "    </tr>\n",
       "    <tr>\n",
       "      <th>timestamp</th>\n",
       "      <th></th>\n",
       "      <th></th>\n",
       "      <th></th>\n",
       "      <th></th>\n",
       "      <th></th>\n",
       "      <th></th>\n",
       "      <th></th>\n",
       "      <th></th>\n",
       "      <th></th>\n",
       "      <th></th>\n",
       "      <th></th>\n",
       "      <th></th>\n",
       "      <th></th>\n",
       "      <th></th>\n",
       "    </tr>\n",
       "  </thead>\n",
       "  <tbody>\n",
       "    <tr>\n",
       "      <th>2019-07-29 04:00:00+00:00</th>\n",
       "      <td>301.85</td>\n",
       "      <td>302.01</td>\n",
       "      <td>300.85</td>\n",
       "      <td>301.46</td>\n",
       "      <td>38182966</td>\n",
       "      <td>185789</td>\n",
       "      <td>301.477510</td>\n",
       "      <td>111.30</td>\n",
       "      <td>111.35</td>\n",
       "      <td>111.22</td>\n",
       "      <td>111.26</td>\n",
       "      <td>4667109</td>\n",
       "      <td>9067</td>\n",
       "      <td>111.287204</td>\n",
       "    </tr>\n",
       "    <tr>\n",
       "      <th>2019-07-30 04:00:00+00:00</th>\n",
       "      <td>299.90</td>\n",
       "      <td>301.17</td>\n",
       "      <td>299.49</td>\n",
       "      <td>300.72</td>\n",
       "      <td>46360267</td>\n",
       "      <td>208893</td>\n",
       "      <td>300.597002</td>\n",
       "      <td>111.27</td>\n",
       "      <td>111.33</td>\n",
       "      <td>111.16</td>\n",
       "      <td>111.25</td>\n",
       "      <td>2409278</td>\n",
       "      <td>9125</td>\n",
       "      <td>111.240710</td>\n",
       "    </tr>\n",
       "    <tr>\n",
       "      <th>2019-07-31 04:00:00+00:00</th>\n",
       "      <td>300.98</td>\n",
       "      <td>301.20</td>\n",
       "      <td>295.20</td>\n",
       "      <td>297.43</td>\n",
       "      <td>104971212</td>\n",
       "      <td>537642</td>\n",
       "      <td>298.744183</td>\n",
       "      <td>111.30</td>\n",
       "      <td>111.59</td>\n",
       "      <td>111.07</td>\n",
       "      <td>111.30</td>\n",
       "      <td>12972717</td>\n",
       "      <td>17896</td>\n",
       "      <td>111.389988</td>\n",
       "    </tr>\n",
       "    <tr>\n",
       "      <th>2019-08-01 04:00:00+00:00</th>\n",
       "      <td>297.56</td>\n",
       "      <td>300.87</td>\n",
       "      <td>293.96</td>\n",
       "      <td>294.84</td>\n",
       "      <td>142653060</td>\n",
       "      <td>771413</td>\n",
       "      <td>296.650886</td>\n",
       "      <td>111.34</td>\n",
       "      <td>111.95</td>\n",
       "      <td>111.26</td>\n",
       "      <td>111.91</td>\n",
       "      <td>5709211</td>\n",
       "      <td>22712</td>\n",
       "      <td>111.700343</td>\n",
       "    </tr>\n",
       "    <tr>\n",
       "      <th>2019-08-02 04:00:00+00:00</th>\n",
       "      <td>293.86</td>\n",
       "      <td>294.12</td>\n",
       "      <td>290.90</td>\n",
       "      <td>292.62</td>\n",
       "      <td>118248370</td>\n",
       "      <td>552082</td>\n",
       "      <td>292.544668</td>\n",
       "      <td>111.93</td>\n",
       "      <td>112.04</td>\n",
       "      <td>111.82</td>\n",
       "      <td>111.95</td>\n",
       "      <td>3293739</td>\n",
       "      <td>16662</td>\n",
       "      <td>111.917417</td>\n",
       "    </tr>\n",
       "  </tbody>\n",
       "</table>\n",
       "</div>"
      ],
      "text/plain": [
       "                              SPY                                     \\\n",
       "                             open    high     low   close     volume   \n",
       "timestamp                                                              \n",
       "2019-07-29 04:00:00+00:00  301.85  302.01  300.85  301.46   38182966   \n",
       "2019-07-30 04:00:00+00:00  299.90  301.17  299.49  300.72   46360267   \n",
       "2019-07-31 04:00:00+00:00  300.98  301.20  295.20  297.43  104971212   \n",
       "2019-08-01 04:00:00+00:00  297.56  300.87  293.96  294.84  142653060   \n",
       "2019-08-02 04:00:00+00:00  293.86  294.12  290.90  292.62  118248370   \n",
       "\n",
       "                                                      AGG                  \\\n",
       "                          trade_count        vwap    open    high     low   \n",
       "timestamp                                                                   \n",
       "2019-07-29 04:00:00+00:00      185789  301.477510  111.30  111.35  111.22   \n",
       "2019-07-30 04:00:00+00:00      208893  300.597002  111.27  111.33  111.16   \n",
       "2019-07-31 04:00:00+00:00      537642  298.744183  111.30  111.59  111.07   \n",
       "2019-08-01 04:00:00+00:00      771413  296.650886  111.34  111.95  111.26   \n",
       "2019-08-02 04:00:00+00:00      552082  292.544668  111.93  112.04  111.82   \n",
       "\n",
       "                                                                     \n",
       "                            close    volume trade_count        vwap  \n",
       "timestamp                                                            \n",
       "2019-07-29 04:00:00+00:00  111.26   4667109        9067  111.287204  \n",
       "2019-07-30 04:00:00+00:00  111.25   2409278        9125  111.240710  \n",
       "2019-07-31 04:00:00+00:00  111.30  12972717       17896  111.389988  \n",
       "2019-08-01 04:00:00+00:00  111.91   5709211       22712  111.700343  \n",
       "2019-08-02 04:00:00+00:00  111.95   3293739       16662  111.917417  "
      ]
     },
     "metadata": {},
     "output_type": "display_data"
    },
    {
     "data": {
      "text/html": [
       "<div>\n",
       "<style scoped>\n",
       "    .dataframe tbody tr th:only-of-type {\n",
       "        vertical-align: middle;\n",
       "    }\n",
       "\n",
       "    .dataframe tbody tr th {\n",
       "        vertical-align: top;\n",
       "    }\n",
       "\n",
       "    .dataframe thead tr th {\n",
       "        text-align: left;\n",
       "    }\n",
       "\n",
       "    .dataframe thead tr:last-of-type th {\n",
       "        text-align: right;\n",
       "    }\n",
       "</style>\n",
       "<table border=\"1\" class=\"dataframe\">\n",
       "  <thead>\n",
       "    <tr>\n",
       "      <th></th>\n",
       "      <th colspan=\"7\" halign=\"left\">SPY</th>\n",
       "      <th colspan=\"7\" halign=\"left\">AGG</th>\n",
       "    </tr>\n",
       "    <tr>\n",
       "      <th></th>\n",
       "      <th>open</th>\n",
       "      <th>high</th>\n",
       "      <th>low</th>\n",
       "      <th>close</th>\n",
       "      <th>volume</th>\n",
       "      <th>trade_count</th>\n",
       "      <th>vwap</th>\n",
       "      <th>open</th>\n",
       "      <th>high</th>\n",
       "      <th>low</th>\n",
       "      <th>close</th>\n",
       "      <th>volume</th>\n",
       "      <th>trade_count</th>\n",
       "      <th>vwap</th>\n",
       "    </tr>\n",
       "    <tr>\n",
       "      <th>timestamp</th>\n",
       "      <th></th>\n",
       "      <th></th>\n",
       "      <th></th>\n",
       "      <th></th>\n",
       "      <th></th>\n",
       "      <th></th>\n",
       "      <th></th>\n",
       "      <th></th>\n",
       "      <th></th>\n",
       "      <th></th>\n",
       "      <th></th>\n",
       "      <th></th>\n",
       "      <th></th>\n",
       "      <th></th>\n",
       "    </tr>\n",
       "  </thead>\n",
       "  <tbody>\n",
       "    <tr>\n",
       "      <th>2022-07-25 04:00:00+00:00</th>\n",
       "      <td>395.72</td>\n",
       "      <td>396.47</td>\n",
       "      <td>393.21</td>\n",
       "      <td>395.57</td>\n",
       "      <td>53336510</td>\n",
       "      <td>437463</td>\n",
       "      <td>395.047557</td>\n",
       "      <td>102.90</td>\n",
       "      <td>103.090</td>\n",
       "      <td>102.870</td>\n",
       "      <td>102.98</td>\n",
       "      <td>3577227</td>\n",
       "      <td>15169</td>\n",
       "      <td>102.964903</td>\n",
       "    </tr>\n",
       "    <tr>\n",
       "      <th>2022-07-26 04:00:00+00:00</th>\n",
       "      <td>393.84</td>\n",
       "      <td>394.06</td>\n",
       "      <td>389.95</td>\n",
       "      <td>390.89</td>\n",
       "      <td>52767480</td>\n",
       "      <td>436591</td>\n",
       "      <td>391.857608</td>\n",
       "      <td>103.44</td>\n",
       "      <td>103.510</td>\n",
       "      <td>102.960</td>\n",
       "      <td>102.96</td>\n",
       "      <td>6203148</td>\n",
       "      <td>17921</td>\n",
       "      <td>103.179189</td>\n",
       "    </tr>\n",
       "    <tr>\n",
       "      <th>2022-07-27 04:00:00+00:00</th>\n",
       "      <td>394.43</td>\n",
       "      <td>402.88</td>\n",
       "      <td>394.05</td>\n",
       "      <td>401.04</td>\n",
       "      <td>81319074</td>\n",
       "      <td>587430</td>\n",
       "      <td>398.307462</td>\n",
       "      <td>103.19</td>\n",
       "      <td>103.640</td>\n",
       "      <td>103.180</td>\n",
       "      <td>103.32</td>\n",
       "      <td>5098243</td>\n",
       "      <td>18390</td>\n",
       "      <td>103.358408</td>\n",
       "    </tr>\n",
       "    <tr>\n",
       "      <th>2022-07-28 04:00:00+00:00</th>\n",
       "      <td>401.84</td>\n",
       "      <td>406.80</td>\n",
       "      <td>398.15</td>\n",
       "      <td>406.07</td>\n",
       "      <td>73966563</td>\n",
       "      <td>570079</td>\n",
       "      <td>403.644305</td>\n",
       "      <td>104.09</td>\n",
       "      <td>104.205</td>\n",
       "      <td>103.835</td>\n",
       "      <td>104.06</td>\n",
       "      <td>6473834</td>\n",
       "      <td>23665</td>\n",
       "      <td>104.024178</td>\n",
       "    </tr>\n",
       "    <tr>\n",
       "      <th>2022-07-29 04:00:00+00:00</th>\n",
       "      <td>407.70</td>\n",
       "      <td>413.02</td>\n",
       "      <td>406.77</td>\n",
       "      <td>411.99</td>\n",
       "      <td>86779944</td>\n",
       "      <td>544810</td>\n",
       "      <td>410.668581</td>\n",
       "      <td>103.94</td>\n",
       "      <td>104.395</td>\n",
       "      <td>103.830</td>\n",
       "      <td>104.07</td>\n",
       "      <td>6523118</td>\n",
       "      <td>22800</td>\n",
       "      <td>104.156714</td>\n",
       "    </tr>\n",
       "  </tbody>\n",
       "</table>\n",
       "</div>"
      ],
      "text/plain": [
       "                              SPY                                    \\\n",
       "                             open    high     low   close    volume   \n",
       "timestamp                                                             \n",
       "2022-07-25 04:00:00+00:00  395.72  396.47  393.21  395.57  53336510   \n",
       "2022-07-26 04:00:00+00:00  393.84  394.06  389.95  390.89  52767480   \n",
       "2022-07-27 04:00:00+00:00  394.43  402.88  394.05  401.04  81319074   \n",
       "2022-07-28 04:00:00+00:00  401.84  406.80  398.15  406.07  73966563   \n",
       "2022-07-29 04:00:00+00:00  407.70  413.02  406.77  411.99  86779944   \n",
       "\n",
       "                                                      AGG                    \\\n",
       "                          trade_count        vwap    open     high      low   \n",
       "timestamp                                                                     \n",
       "2022-07-25 04:00:00+00:00      437463  395.047557  102.90  103.090  102.870   \n",
       "2022-07-26 04:00:00+00:00      436591  391.857608  103.44  103.510  102.960   \n",
       "2022-07-27 04:00:00+00:00      587430  398.307462  103.19  103.640  103.180   \n",
       "2022-07-28 04:00:00+00:00      570079  403.644305  104.09  104.205  103.835   \n",
       "2022-07-29 04:00:00+00:00      544810  410.668581  103.94  104.395  103.830   \n",
       "\n",
       "                                                                    \n",
       "                            close   volume trade_count        vwap  \n",
       "timestamp                                                           \n",
       "2022-07-25 04:00:00+00:00  102.98  3577227       15169  102.964903  \n",
       "2022-07-26 04:00:00+00:00  102.96  6203148       17921  103.179189  \n",
       "2022-07-27 04:00:00+00:00  103.32  5098243       18390  103.358408  \n",
       "2022-07-28 04:00:00+00:00  104.06  6473834       23665  104.024178  \n",
       "2022-07-29 04:00:00+00:00  104.07  6523118       22800  104.156714  "
      ]
     },
     "metadata": {},
     "output_type": "display_data"
    }
   ],
   "source": [
    "# Use the Alpaca get_bars function to make the API call to get the 3 years worth of pricing data\n",
    "# The tickers and timeframe parameters should have been set in Part 1 of this activity \n",
    "# The start and end dates should be updated with the information set above\n",
    "# Remember to add the df property to the end of the call so the response is returned as a DataFrame\n",
    "portfolio_prices = alpaca.get_bars(\n",
    "    tickers,\n",
    "    timeframe,\n",
    "    start = start_date,\n",
    "    end = end_date\n",
    "\n",
    ").df\n",
    "\n",
    "# Reorganize the DataFrame\n",
    "# Separate ticker data\n",
    "SPY = portfolio_prices[portfolio_prices[\"symbol\"]== \"SPY\"].drop(\"symbol\", axis =1)\n",
    "AGG = portfolio_prices[portfolio_prices[\"symbol\"]== \"AGG\"].drop(\"symbol\", axis =1)\n",
    "# Concatenate the ticker DataFrames\n",
    "\n",
    "portfolio_prices = pd.concat([SPY,AGG],axis =1, keys= [\"SPY\",\"AGG\"])\n",
    "# Display both the first and last five rows of the DataFrame\n",
    "\n",
    "display(portfolio_prices.head())\n",
    "display(portfolio_prices.tail())\n"
   ]
  },
  {
   "cell_type": "markdown",
   "metadata": {},
   "source": [
    "#### Step 2: Run a Monte Carlo simulation of 500 samples and 30 years for the 60/40 portfolio, and then plot the results."
   ]
  },
  {
   "cell_type": "code",
   "execution_count": 30,
   "metadata": {},
   "outputs": [
    {
     "data": {
      "text/html": [
       "<div>\n",
       "<style scoped>\n",
       "    .dataframe tbody tr th:only-of-type {\n",
       "        vertical-align: middle;\n",
       "    }\n",
       "\n",
       "    .dataframe tbody tr th {\n",
       "        vertical-align: top;\n",
       "    }\n",
       "\n",
       "    .dataframe thead tr th {\n",
       "        text-align: left;\n",
       "    }\n",
       "\n",
       "    .dataframe thead tr:last-of-type th {\n",
       "        text-align: right;\n",
       "    }\n",
       "</style>\n",
       "<table border=\"1\" class=\"dataframe\">\n",
       "  <thead>\n",
       "    <tr>\n",
       "      <th></th>\n",
       "      <th colspan=\"8\" halign=\"left\">SPY</th>\n",
       "      <th colspan=\"8\" halign=\"left\">AGG</th>\n",
       "    </tr>\n",
       "    <tr>\n",
       "      <th></th>\n",
       "      <th>open</th>\n",
       "      <th>high</th>\n",
       "      <th>low</th>\n",
       "      <th>close</th>\n",
       "      <th>volume</th>\n",
       "      <th>trade_count</th>\n",
       "      <th>vwap</th>\n",
       "      <th>daily_return</th>\n",
       "      <th>open</th>\n",
       "      <th>high</th>\n",
       "      <th>low</th>\n",
       "      <th>close</th>\n",
       "      <th>volume</th>\n",
       "      <th>trade_count</th>\n",
       "      <th>vwap</th>\n",
       "      <th>daily_return</th>\n",
       "    </tr>\n",
       "    <tr>\n",
       "      <th>timestamp</th>\n",
       "      <th></th>\n",
       "      <th></th>\n",
       "      <th></th>\n",
       "      <th></th>\n",
       "      <th></th>\n",
       "      <th></th>\n",
       "      <th></th>\n",
       "      <th></th>\n",
       "      <th></th>\n",
       "      <th></th>\n",
       "      <th></th>\n",
       "      <th></th>\n",
       "      <th></th>\n",
       "      <th></th>\n",
       "      <th></th>\n",
       "      <th></th>\n",
       "    </tr>\n",
       "  </thead>\n",
       "  <tbody>\n",
       "    <tr>\n",
       "      <th>2019-07-29 04:00:00+00:00</th>\n",
       "      <td>301.85</td>\n",
       "      <td>302.01</td>\n",
       "      <td>300.85</td>\n",
       "      <td>301.46</td>\n",
       "      <td>38182966</td>\n",
       "      <td>185789</td>\n",
       "      <td>301.477510</td>\n",
       "      <td>NaN</td>\n",
       "      <td>111.30</td>\n",
       "      <td>111.35</td>\n",
       "      <td>111.22</td>\n",
       "      <td>111.26</td>\n",
       "      <td>4667109</td>\n",
       "      <td>9067</td>\n",
       "      <td>111.287204</td>\n",
       "      <td>NaN</td>\n",
       "    </tr>\n",
       "    <tr>\n",
       "      <th>2019-07-30 04:00:00+00:00</th>\n",
       "      <td>299.90</td>\n",
       "      <td>301.17</td>\n",
       "      <td>299.49</td>\n",
       "      <td>300.72</td>\n",
       "      <td>46360267</td>\n",
       "      <td>208893</td>\n",
       "      <td>300.597002</td>\n",
       "      <td>-0.002455</td>\n",
       "      <td>111.27</td>\n",
       "      <td>111.33</td>\n",
       "      <td>111.16</td>\n",
       "      <td>111.25</td>\n",
       "      <td>2409278</td>\n",
       "      <td>9125</td>\n",
       "      <td>111.240710</td>\n",
       "      <td>-0.000090</td>\n",
       "    </tr>\n",
       "    <tr>\n",
       "      <th>2019-07-31 04:00:00+00:00</th>\n",
       "      <td>300.98</td>\n",
       "      <td>301.20</td>\n",
       "      <td>295.20</td>\n",
       "      <td>297.43</td>\n",
       "      <td>104971212</td>\n",
       "      <td>537642</td>\n",
       "      <td>298.744183</td>\n",
       "      <td>-0.010940</td>\n",
       "      <td>111.30</td>\n",
       "      <td>111.59</td>\n",
       "      <td>111.07</td>\n",
       "      <td>111.30</td>\n",
       "      <td>12972717</td>\n",
       "      <td>17896</td>\n",
       "      <td>111.389988</td>\n",
       "      <td>0.000449</td>\n",
       "    </tr>\n",
       "    <tr>\n",
       "      <th>2019-08-01 04:00:00+00:00</th>\n",
       "      <td>297.56</td>\n",
       "      <td>300.87</td>\n",
       "      <td>293.96</td>\n",
       "      <td>294.84</td>\n",
       "      <td>142653060</td>\n",
       "      <td>771413</td>\n",
       "      <td>296.650886</td>\n",
       "      <td>-0.008708</td>\n",
       "      <td>111.34</td>\n",
       "      <td>111.95</td>\n",
       "      <td>111.26</td>\n",
       "      <td>111.91</td>\n",
       "      <td>5709211</td>\n",
       "      <td>22712</td>\n",
       "      <td>111.700343</td>\n",
       "      <td>0.005481</td>\n",
       "    </tr>\n",
       "    <tr>\n",
       "      <th>2019-08-02 04:00:00+00:00</th>\n",
       "      <td>293.86</td>\n",
       "      <td>294.12</td>\n",
       "      <td>290.90</td>\n",
       "      <td>292.62</td>\n",
       "      <td>118248370</td>\n",
       "      <td>552082</td>\n",
       "      <td>292.544668</td>\n",
       "      <td>-0.007530</td>\n",
       "      <td>111.93</td>\n",
       "      <td>112.04</td>\n",
       "      <td>111.82</td>\n",
       "      <td>111.95</td>\n",
       "      <td>3293739</td>\n",
       "      <td>16662</td>\n",
       "      <td>111.917417</td>\n",
       "      <td>0.000357</td>\n",
       "    </tr>\n",
       "  </tbody>\n",
       "</table>\n",
       "</div>"
      ],
      "text/plain": [
       "                              SPY                                     \\\n",
       "                             open    high     low   close     volume   \n",
       "timestamp                                                              \n",
       "2019-07-29 04:00:00+00:00  301.85  302.01  300.85  301.46   38182966   \n",
       "2019-07-30 04:00:00+00:00  299.90  301.17  299.49  300.72   46360267   \n",
       "2019-07-31 04:00:00+00:00  300.98  301.20  295.20  297.43  104971212   \n",
       "2019-08-01 04:00:00+00:00  297.56  300.87  293.96  294.84  142653060   \n",
       "2019-08-02 04:00:00+00:00  293.86  294.12  290.90  292.62  118248370   \n",
       "\n",
       "                                                                   AGG  \\\n",
       "                          trade_count        vwap daily_return    open   \n",
       "timestamp                                                                \n",
       "2019-07-29 04:00:00+00:00      185789  301.477510          NaN  111.30   \n",
       "2019-07-30 04:00:00+00:00      208893  300.597002    -0.002455  111.27   \n",
       "2019-07-31 04:00:00+00:00      537642  298.744183    -0.010940  111.30   \n",
       "2019-08-01 04:00:00+00:00      771413  296.650886    -0.008708  111.34   \n",
       "2019-08-02 04:00:00+00:00      552082  292.544668    -0.007530  111.93   \n",
       "\n",
       "                                                                         \\\n",
       "                             high     low   close    volume trade_count   \n",
       "timestamp                                                                 \n",
       "2019-07-29 04:00:00+00:00  111.35  111.22  111.26   4667109        9067   \n",
       "2019-07-30 04:00:00+00:00  111.33  111.16  111.25   2409278        9125   \n",
       "2019-07-31 04:00:00+00:00  111.59  111.07  111.30  12972717       17896   \n",
       "2019-08-01 04:00:00+00:00  111.95  111.26  111.91   5709211       22712   \n",
       "2019-08-02 04:00:00+00:00  112.04  111.82  111.95   3293739       16662   \n",
       "\n",
       "                                                    \n",
       "                                 vwap daily_return  \n",
       "timestamp                                           \n",
       "2019-07-29 04:00:00+00:00  111.287204          NaN  \n",
       "2019-07-30 04:00:00+00:00  111.240710    -0.000090  \n",
       "2019-07-31 04:00:00+00:00  111.389988     0.000449  \n",
       "2019-08-01 04:00:00+00:00  111.700343     0.005481  \n",
       "2019-08-02 04:00:00+00:00  111.917417     0.000357  "
      ]
     },
     "metadata": {},
     "output_type": "display_data"
    }
   ],
   "source": [
    "# Configure the Monte Carlo simulation to forecast 30 years cumulative returns\n",
    "# The weights should be split 40% to AGG and 60% to SPY.\n",
    "# Run 500 samples.\n",
    "MC_portfolio_60SPY_40AGG = MCSimulation(\n",
    "    portfolio_data = portfolio_prices,\n",
    "    weights=[.60,.40],\n",
    "    num_simulation = 500,\n",
    "    num_trading_days = 252*30\n",
    ")\n",
    "\n",
    "# Review the simulation input data\n",
    "display(MC_portfolio_60SPY_40AGG.portfolio_data.head())\n"
   ]
  },
  {
   "cell_type": "code",
   "execution_count": 31,
   "metadata": {},
   "outputs": [
    {
     "name": "stdout",
     "output_type": "stream",
     "text": [
      "Running Monte Carlo simulation number 0.\n",
      "Running Monte Carlo simulation number 10.\n",
      "Running Monte Carlo simulation number 20.\n",
      "Running Monte Carlo simulation number 30.\n",
      "Running Monte Carlo simulation number 40.\n",
      "Running Monte Carlo simulation number 50.\n",
      "Running Monte Carlo simulation number 60.\n",
      "Running Monte Carlo simulation number 70.\n",
      "Running Monte Carlo simulation number 80.\n",
      "Running Monte Carlo simulation number 90.\n",
      "Running Monte Carlo simulation number 100.\n"
     ]
    },
    {
     "name": "stderr",
     "output_type": "stream",
     "text": [
      "/Users/antiwanmaxwell/Desktop/Fintech_Lessons/challenge_assignments/mod_5_project/mod_5_challenge_assignment/MCForecastTools.py:117: PerformanceWarning: DataFrame is highly fragmented.  This is usually the result of calling `frame.insert` many times, which has poor performance.  Consider joining all columns at once using pd.concat(axis=1) instead.  To get a de-fragmented frame, use `newframe = frame.copy()`\n",
      "  portfolio_cumulative_returns[n] = (1 + sim_df.fillna(0)).cumprod()\n"
     ]
    },
    {
     "name": "stdout",
     "output_type": "stream",
     "text": [
      "Running Monte Carlo simulation number 110.\n",
      "Running Monte Carlo simulation number 120.\n",
      "Running Monte Carlo simulation number 130.\n",
      "Running Monte Carlo simulation number 140.\n",
      "Running Monte Carlo simulation number 150.\n",
      "Running Monte Carlo simulation number 160.\n",
      "Running Monte Carlo simulation number 170.\n",
      "Running Monte Carlo simulation number 180.\n",
      "Running Monte Carlo simulation number 190.\n",
      "Running Monte Carlo simulation number 200.\n",
      "Running Monte Carlo simulation number 210.\n",
      "Running Monte Carlo simulation number 220.\n",
      "Running Monte Carlo simulation number 230.\n",
      "Running Monte Carlo simulation number 240.\n",
      "Running Monte Carlo simulation number 250.\n",
      "Running Monte Carlo simulation number 260.\n",
      "Running Monte Carlo simulation number 270.\n",
      "Running Monte Carlo simulation number 280.\n",
      "Running Monte Carlo simulation number 290.\n",
      "Running Monte Carlo simulation number 300.\n",
      "Running Monte Carlo simulation number 310.\n",
      "Running Monte Carlo simulation number 320.\n",
      "Running Monte Carlo simulation number 330.\n",
      "Running Monte Carlo simulation number 340.\n",
      "Running Monte Carlo simulation number 350.\n",
      "Running Monte Carlo simulation number 360.\n",
      "Running Monte Carlo simulation number 370.\n",
      "Running Monte Carlo simulation number 380.\n",
      "Running Monte Carlo simulation number 390.\n",
      "Running Monte Carlo simulation number 400.\n",
      "Running Monte Carlo simulation number 410.\n",
      "Running Monte Carlo simulation number 420.\n",
      "Running Monte Carlo simulation number 430.\n",
      "Running Monte Carlo simulation number 440.\n",
      "Running Monte Carlo simulation number 450.\n",
      "Running Monte Carlo simulation number 460.\n",
      "Running Monte Carlo simulation number 470.\n",
      "Running Monte Carlo simulation number 480.\n",
      "Running Monte Carlo simulation number 490.\n"
     ]
    },
    {
     "data": {
      "text/html": [
       "<div>\n",
       "<style scoped>\n",
       "    .dataframe tbody tr th:only-of-type {\n",
       "        vertical-align: middle;\n",
       "    }\n",
       "\n",
       "    .dataframe tbody tr th {\n",
       "        vertical-align: top;\n",
       "    }\n",
       "\n",
       "    .dataframe thead th {\n",
       "        text-align: right;\n",
       "    }\n",
       "</style>\n",
       "<table border=\"1\" class=\"dataframe\">\n",
       "  <thead>\n",
       "    <tr style=\"text-align: right;\">\n",
       "      <th></th>\n",
       "      <th>0</th>\n",
       "      <th>1</th>\n",
       "      <th>2</th>\n",
       "      <th>3</th>\n",
       "      <th>4</th>\n",
       "      <th>5</th>\n",
       "      <th>6</th>\n",
       "      <th>7</th>\n",
       "      <th>8</th>\n",
       "      <th>9</th>\n",
       "      <th>...</th>\n",
       "      <th>490</th>\n",
       "      <th>491</th>\n",
       "      <th>492</th>\n",
       "      <th>493</th>\n",
       "      <th>494</th>\n",
       "      <th>495</th>\n",
       "      <th>496</th>\n",
       "      <th>497</th>\n",
       "      <th>498</th>\n",
       "      <th>499</th>\n",
       "    </tr>\n",
       "  </thead>\n",
       "  <tbody>\n",
       "    <tr>\n",
       "      <th>0</th>\n",
       "      <td>1.000000</td>\n",
       "      <td>1.000000</td>\n",
       "      <td>1.000000</td>\n",
       "      <td>1.000000</td>\n",
       "      <td>1.000000</td>\n",
       "      <td>1.000000</td>\n",
       "      <td>1.000000</td>\n",
       "      <td>1.000000</td>\n",
       "      <td>1.000000</td>\n",
       "      <td>1.000000</td>\n",
       "      <td>...</td>\n",
       "      <td>1.000000</td>\n",
       "      <td>1.000000</td>\n",
       "      <td>1.000000</td>\n",
       "      <td>1.000000</td>\n",
       "      <td>1.000000</td>\n",
       "      <td>1.000000</td>\n",
       "      <td>1.000000</td>\n",
       "      <td>1.000000</td>\n",
       "      <td>1.000000</td>\n",
       "      <td>1.000000</td>\n",
       "    </tr>\n",
       "    <tr>\n",
       "      <th>1</th>\n",
       "      <td>0.993887</td>\n",
       "      <td>1.009435</td>\n",
       "      <td>0.990817</td>\n",
       "      <td>1.006022</td>\n",
       "      <td>0.993523</td>\n",
       "      <td>0.995121</td>\n",
       "      <td>1.000939</td>\n",
       "      <td>1.007408</td>\n",
       "      <td>0.996762</td>\n",
       "      <td>0.986635</td>\n",
       "      <td>...</td>\n",
       "      <td>0.990049</td>\n",
       "      <td>1.010176</td>\n",
       "      <td>0.997117</td>\n",
       "      <td>0.992934</td>\n",
       "      <td>0.999183</td>\n",
       "      <td>1.002223</td>\n",
       "      <td>1.008475</td>\n",
       "      <td>0.992631</td>\n",
       "      <td>0.997005</td>\n",
       "      <td>1.008591</td>\n",
       "    </tr>\n",
       "    <tr>\n",
       "      <th>2</th>\n",
       "      <td>1.013968</td>\n",
       "      <td>1.006620</td>\n",
       "      <td>1.002168</td>\n",
       "      <td>1.011077</td>\n",
       "      <td>0.995374</td>\n",
       "      <td>0.985346</td>\n",
       "      <td>0.994929</td>\n",
       "      <td>1.012415</td>\n",
       "      <td>1.005084</td>\n",
       "      <td>0.978321</td>\n",
       "      <td>...</td>\n",
       "      <td>0.982786</td>\n",
       "      <td>1.011868</td>\n",
       "      <td>0.996748</td>\n",
       "      <td>0.993249</td>\n",
       "      <td>0.995330</td>\n",
       "      <td>1.006318</td>\n",
       "      <td>1.014192</td>\n",
       "      <td>0.996251</td>\n",
       "      <td>1.001033</td>\n",
       "      <td>1.018552</td>\n",
       "    </tr>\n",
       "    <tr>\n",
       "      <th>3</th>\n",
       "      <td>1.006502</td>\n",
       "      <td>1.017714</td>\n",
       "      <td>0.999644</td>\n",
       "      <td>1.003385</td>\n",
       "      <td>0.980306</td>\n",
       "      <td>0.966884</td>\n",
       "      <td>0.975574</td>\n",
       "      <td>1.015849</td>\n",
       "      <td>1.018972</td>\n",
       "      <td>0.996900</td>\n",
       "      <td>...</td>\n",
       "      <td>0.988505</td>\n",
       "      <td>1.007823</td>\n",
       "      <td>0.991460</td>\n",
       "      <td>0.999325</td>\n",
       "      <td>0.999249</td>\n",
       "      <td>1.005263</td>\n",
       "      <td>1.016771</td>\n",
       "      <td>1.009932</td>\n",
       "      <td>1.010675</td>\n",
       "      <td>1.018329</td>\n",
       "    </tr>\n",
       "    <tr>\n",
       "      <th>4</th>\n",
       "      <td>1.015237</td>\n",
       "      <td>1.032924</td>\n",
       "      <td>0.995151</td>\n",
       "      <td>1.015892</td>\n",
       "      <td>0.986144</td>\n",
       "      <td>0.993419</td>\n",
       "      <td>0.970082</td>\n",
       "      <td>1.011921</td>\n",
       "      <td>1.013651</td>\n",
       "      <td>0.984304</td>\n",
       "      <td>...</td>\n",
       "      <td>1.007245</td>\n",
       "      <td>1.029416</td>\n",
       "      <td>0.998138</td>\n",
       "      <td>0.995767</td>\n",
       "      <td>0.995955</td>\n",
       "      <td>1.003986</td>\n",
       "      <td>1.040507</td>\n",
       "      <td>0.994830</td>\n",
       "      <td>1.012598</td>\n",
       "      <td>1.009889</td>\n",
       "    </tr>\n",
       "    <tr>\n",
       "      <th>...</th>\n",
       "      <td>...</td>\n",
       "      <td>...</td>\n",
       "      <td>...</td>\n",
       "      <td>...</td>\n",
       "      <td>...</td>\n",
       "      <td>...</td>\n",
       "      <td>...</td>\n",
       "      <td>...</td>\n",
       "      <td>...</td>\n",
       "      <td>...</td>\n",
       "      <td>...</td>\n",
       "      <td>...</td>\n",
       "      <td>...</td>\n",
       "      <td>...</td>\n",
       "      <td>...</td>\n",
       "      <td>...</td>\n",
       "      <td>...</td>\n",
       "      <td>...</td>\n",
       "      <td>...</td>\n",
       "      <td>...</td>\n",
       "      <td>...</td>\n",
       "    </tr>\n",
       "    <tr>\n",
       "      <th>7556</th>\n",
       "      <td>4.063884</td>\n",
       "      <td>6.601965</td>\n",
       "      <td>19.687110</td>\n",
       "      <td>6.512831</td>\n",
       "      <td>7.003871</td>\n",
       "      <td>9.800519</td>\n",
       "      <td>3.876213</td>\n",
       "      <td>2.605549</td>\n",
       "      <td>10.100969</td>\n",
       "      <td>12.790918</td>\n",
       "      <td>...</td>\n",
       "      <td>12.406789</td>\n",
       "      <td>8.455341</td>\n",
       "      <td>3.320881</td>\n",
       "      <td>12.877494</td>\n",
       "      <td>23.634170</td>\n",
       "      <td>2.475695</td>\n",
       "      <td>9.250097</td>\n",
       "      <td>7.849284</td>\n",
       "      <td>13.493777</td>\n",
       "      <td>8.191211</td>\n",
       "    </tr>\n",
       "    <tr>\n",
       "      <th>7557</th>\n",
       "      <td>4.065778</td>\n",
       "      <td>6.508953</td>\n",
       "      <td>19.795718</td>\n",
       "      <td>6.569031</td>\n",
       "      <td>7.008725</td>\n",
       "      <td>9.836383</td>\n",
       "      <td>3.879874</td>\n",
       "      <td>2.558140</td>\n",
       "      <td>10.068882</td>\n",
       "      <td>12.888337</td>\n",
       "      <td>...</td>\n",
       "      <td>12.313621</td>\n",
       "      <td>8.426956</td>\n",
       "      <td>3.350797</td>\n",
       "      <td>12.855435</td>\n",
       "      <td>23.449977</td>\n",
       "      <td>2.458604</td>\n",
       "      <td>9.268534</td>\n",
       "      <td>7.688570</td>\n",
       "      <td>13.356808</td>\n",
       "      <td>8.268792</td>\n",
       "    </tr>\n",
       "    <tr>\n",
       "      <th>7558</th>\n",
       "      <td>4.059111</td>\n",
       "      <td>6.547667</td>\n",
       "      <td>19.753506</td>\n",
       "      <td>6.509610</td>\n",
       "      <td>7.089950</td>\n",
       "      <td>9.903388</td>\n",
       "      <td>3.923830</td>\n",
       "      <td>2.590227</td>\n",
       "      <td>10.255075</td>\n",
       "      <td>12.927509</td>\n",
       "      <td>...</td>\n",
       "      <td>12.166902</td>\n",
       "      <td>8.376437</td>\n",
       "      <td>3.322625</td>\n",
       "      <td>13.058036</td>\n",
       "      <td>23.533557</td>\n",
       "      <td>2.445261</td>\n",
       "      <td>9.348356</td>\n",
       "      <td>7.609092</td>\n",
       "      <td>13.426434</td>\n",
       "      <td>8.224906</td>\n",
       "    </tr>\n",
       "    <tr>\n",
       "      <th>7559</th>\n",
       "      <td>4.020971</td>\n",
       "      <td>6.639898</td>\n",
       "      <td>19.462834</td>\n",
       "      <td>6.530957</td>\n",
       "      <td>7.118031</td>\n",
       "      <td>9.887634</td>\n",
       "      <td>3.868969</td>\n",
       "      <td>2.582754</td>\n",
       "      <td>10.318451</td>\n",
       "      <td>13.078835</td>\n",
       "      <td>...</td>\n",
       "      <td>12.225536</td>\n",
       "      <td>8.530118</td>\n",
       "      <td>3.342782</td>\n",
       "      <td>13.209554</td>\n",
       "      <td>23.556134</td>\n",
       "      <td>2.461292</td>\n",
       "      <td>9.343418</td>\n",
       "      <td>7.558928</td>\n",
       "      <td>13.616542</td>\n",
       "      <td>8.322250</td>\n",
       "    </tr>\n",
       "    <tr>\n",
       "      <th>7560</th>\n",
       "      <td>4.034097</td>\n",
       "      <td>6.735840</td>\n",
       "      <td>19.510330</td>\n",
       "      <td>6.462153</td>\n",
       "      <td>7.092350</td>\n",
       "      <td>9.981107</td>\n",
       "      <td>3.864688</td>\n",
       "      <td>2.610545</td>\n",
       "      <td>10.513578</td>\n",
       "      <td>13.014631</td>\n",
       "      <td>...</td>\n",
       "      <td>12.175119</td>\n",
       "      <td>8.458609</td>\n",
       "      <td>3.345138</td>\n",
       "      <td>13.262462</td>\n",
       "      <td>23.385852</td>\n",
       "      <td>2.477606</td>\n",
       "      <td>9.533532</td>\n",
       "      <td>7.546066</td>\n",
       "      <td>13.513964</td>\n",
       "      <td>8.234547</td>\n",
       "    </tr>\n",
       "  </tbody>\n",
       "</table>\n",
       "<p>7561 rows × 500 columns</p>\n",
       "</div>"
      ],
      "text/plain": [
       "           0         1          2         3         4         5         6    \\\n",
       "0     1.000000  1.000000   1.000000  1.000000  1.000000  1.000000  1.000000   \n",
       "1     0.993887  1.009435   0.990817  1.006022  0.993523  0.995121  1.000939   \n",
       "2     1.013968  1.006620   1.002168  1.011077  0.995374  0.985346  0.994929   \n",
       "3     1.006502  1.017714   0.999644  1.003385  0.980306  0.966884  0.975574   \n",
       "4     1.015237  1.032924   0.995151  1.015892  0.986144  0.993419  0.970082   \n",
       "...        ...       ...        ...       ...       ...       ...       ...   \n",
       "7556  4.063884  6.601965  19.687110  6.512831  7.003871  9.800519  3.876213   \n",
       "7557  4.065778  6.508953  19.795718  6.569031  7.008725  9.836383  3.879874   \n",
       "7558  4.059111  6.547667  19.753506  6.509610  7.089950  9.903388  3.923830   \n",
       "7559  4.020971  6.639898  19.462834  6.530957  7.118031  9.887634  3.868969   \n",
       "7560  4.034097  6.735840  19.510330  6.462153  7.092350  9.981107  3.864688   \n",
       "\n",
       "           7          8          9    ...        490       491       492  \\\n",
       "0     1.000000   1.000000   1.000000  ...   1.000000  1.000000  1.000000   \n",
       "1     1.007408   0.996762   0.986635  ...   0.990049  1.010176  0.997117   \n",
       "2     1.012415   1.005084   0.978321  ...   0.982786  1.011868  0.996748   \n",
       "3     1.015849   1.018972   0.996900  ...   0.988505  1.007823  0.991460   \n",
       "4     1.011921   1.013651   0.984304  ...   1.007245  1.029416  0.998138   \n",
       "...        ...        ...        ...  ...        ...       ...       ...   \n",
       "7556  2.605549  10.100969  12.790918  ...  12.406789  8.455341  3.320881   \n",
       "7557  2.558140  10.068882  12.888337  ...  12.313621  8.426956  3.350797   \n",
       "7558  2.590227  10.255075  12.927509  ...  12.166902  8.376437  3.322625   \n",
       "7559  2.582754  10.318451  13.078835  ...  12.225536  8.530118  3.342782   \n",
       "7560  2.610545  10.513578  13.014631  ...  12.175119  8.458609  3.345138   \n",
       "\n",
       "            493        494       495       496       497        498       499  \n",
       "0      1.000000   1.000000  1.000000  1.000000  1.000000   1.000000  1.000000  \n",
       "1      0.992934   0.999183  1.002223  1.008475  0.992631   0.997005  1.008591  \n",
       "2      0.993249   0.995330  1.006318  1.014192  0.996251   1.001033  1.018552  \n",
       "3      0.999325   0.999249  1.005263  1.016771  1.009932   1.010675  1.018329  \n",
       "4      0.995767   0.995955  1.003986  1.040507  0.994830   1.012598  1.009889  \n",
       "...         ...        ...       ...       ...       ...        ...       ...  \n",
       "7556  12.877494  23.634170  2.475695  9.250097  7.849284  13.493777  8.191211  \n",
       "7557  12.855435  23.449977  2.458604  9.268534  7.688570  13.356808  8.268792  \n",
       "7558  13.058036  23.533557  2.445261  9.348356  7.609092  13.426434  8.224906  \n",
       "7559  13.209554  23.556134  2.461292  9.343418  7.558928  13.616542  8.322250  \n",
       "7560  13.262462  23.385852  2.477606  9.533532  7.546066  13.513964  8.234547  \n",
       "\n",
       "[7561 rows x 500 columns]"
      ]
     },
     "execution_count": 31,
     "metadata": {},
     "output_type": "execute_result"
    }
   ],
   "source": [
    "# Run the Monte Carlo simulation to forecast 30 years cumulative returns\n",
    "MC_portfolio_60SPY_40AGG.calc_cumulative_return()\n"
   ]
  },
  {
   "cell_type": "code",
   "execution_count": 32,
   "metadata": {},
   "outputs": [
    {
     "data": {
      "text/plain": [
       "<AxesSubplot:title={'center':'500 Simulations of Cumulative Portfolio Return Trajectories Over the Next 7560 Trading Days.'}>"
      ]
     },
     "execution_count": 32,
     "metadata": {},
     "output_type": "execute_result"
    },
    {
     "data": {
      "image/png": "[encoded data removed]",
      "text/plain": [
       "<Figure size 432x288 with 1 Axes>"
      ]
     },
     "metadata": {
      "needs_background": "light"
     },
     "output_type": "display_data"
    }
   ],
   "source": [
    "# Visualize the 30-year Monte Carlo simulation by creating an\n",
    "# overlay line plot\n",
    "MC_portfolio_60SPY_40AGG.plot_simulation()\n"
   ]
  },
  {
   "cell_type": "markdown",
   "metadata": {},
   "source": [
    "#### Step 3: Plot the probability distribution of the Monte Carlo simulation."
   ]
  },
  {
   "cell_type": "code",
   "execution_count": 33,
   "metadata": {},
   "outputs": [
    {
     "data": {
      "text/plain": [
       "<AxesSubplot:title={'center':'Distribution of Final Cumuluative Returns Across All 500 Simulations'}, ylabel='Frequency'>"
      ]
     },
     "execution_count": 33,
     "metadata": {},
     "output_type": "execute_result"
    },
    {
     "data": {
      "image/png": "[encoded data removed]",
      "text/plain": [
       "<Figure size 432x288 with 1 Axes>"
      ]
     },
     "metadata": {
      "needs_background": "light"
     },
     "output_type": "display_data"
    }
   ],
   "source": [
    "# Visualize the probability distribution of the 30-year Monte Carlo simulation \n",
    "# by plotting a histogram\n",
    "MC_portfolio_60SPY_40AGG.plot_distribution()\n"
   ]
  },
  {
   "cell_type": "markdown",
   "metadata": {},
   "source": [
    "#### Step 4: Generate the summary statistics for the Monte Carlo simulation."
   ]
  },
  {
   "cell_type": "code",
   "execution_count": 34,
   "metadata": {},
   "outputs": [
    {
     "data": {
      "text/plain": [
       "count           500.000000\n",
       "mean              8.725612\n",
       "std               7.699953\n",
       "min               0.742430\n",
       "25%               3.624225\n",
       "50%               6.728548\n",
       "75%              11.124718\n",
       "max              67.294560\n",
       "95% CI Lower      1.406041\n",
       "95% CI Upper     26.364316\n",
       "Name: 7560, dtype: float64"
      ]
     },
     "execution_count": 34,
     "metadata": {},
     "output_type": "execute_result"
    }
   ],
   "source": [
    "# Generate summary statistics from the 30-year Monte Carlo simulation results\n",
    "# Save the results as a variable\n",
    "\n",
    "MC_portfolio_60SPY_40AGG_summary_stats = MC_portfolio_60SPY_40AGG.summarize_cumulative_return()\n",
    "\n",
    "\n",
    "# Review the 30-year Monte Carlo summary statistics\n",
    "MC_portfolio_60SPY_40AGG_summary_stats"
   ]
  },
  {
   "cell_type": "markdown",
   "metadata": {},
   "source": [
    "### Analyze the Retirement Portfolio Forecasts\n",
    "\n",
    "Using the current value of only the stock and bond portion of the member's portfolio and the summary statistics that you generated from the Monte Carlo simulation, answer the following question in your Jupyter notebook:\n",
    "\n",
    "-  What are the lower and upper bounds for the expected value of the portfolio with a 95% confidence interval?\n"
   ]
  },
  {
   "cell_type": "code",
   "execution_count": 35,
   "metadata": {},
   "outputs": [
    {
     "name": "stdout",
     "output_type": "stream",
     "text": [
      "The current balance of the member's stock and bond portfolio is  66132.90.\n"
     ]
    }
   ],
   "source": [
    "# Print the current balance of the stock and bond portion of the members portfolio\n",
    "print(f\"The current balance of the member's stock and bond portfolio is {total_stocks_bonds: .2f}.\")\n"
   ]
  },
  {
   "cell_type": "code",
   "execution_count": 36,
   "metadata": {},
   "outputs": [
    {
     "name": "stdout",
     "output_type": "stream",
     "text": [
      "There is a 95% chance that the current balance of $ 66132.90 in the member's stock/bond portfolio over the next 30 years will grow within a range of $ 92985.55 on the lower end and $ 1743548.66 on the higher end.\n"
     ]
    }
   ],
   "source": [
    "# Use the lower and upper `95%` confidence intervals to calculate the range of the possible outcomes for the current stock/bond portfolio\n",
    "ci_lower_thirty_cumulative_return = round(MC_portfolio_60SPY_40AGG_summary_stats[8] * total_stocks_bonds,2)\n",
    "ci_upper_thirty_cumulative_return = round(MC_portfolio_60SPY_40AGG_summary_stats[9] * total_stocks_bonds,2)\n",
    "\n",
    "# Print the result of your calculations\n",
    "\n",
    "print(f\"There is a 95% chance that the current balance of ${total_stocks_bonds: .2f} in the member's stock/bond portfolio\"\n",
    "      f\" over the next 30 years will grow within a range of ${ci_lower_thirty_cumulative_return: .2f}\"\n",
    "      f\" on the lower end and ${ci_upper_thirty_cumulative_return: .2f} on the higher end.\")"
   ]
  },
  {
   "cell_type": "markdown",
   "metadata": {},
   "source": [
    "### Forecast Cumulative Returns in 10 Years\n",
    "\n",
    "The CTO of the credit union is impressed with your work on these planning tools but wonders if 30 years is a long time to wait until retirement. So, your next task is to adjust the retirement portfolio and run a new Monte Carlo simulation to find out if the changes will allow members to retire earlier.\n",
    "\n",
    "For this new Monte Carlo simulation, do the following: \n",
    "\n",
    "- Forecast the cumulative returns for 10 years from now. Because of the shortened investment horizon (30 years to 10 years), the portfolio needs to invest more heavily in the riskier asset&mdash;that is, stock&mdash;to help accumulate wealth for retirement. \n",
    "\n",
    "- Adjust the weights of the retirement portfolio so that the composition for the Monte Carlo simulation consists of 20% bonds and 80% stocks. \n",
    "\n",
    "- Run the simulation over 500 samples, and use the same data that the API call to Alpaca generated.\n",
    "\n",
    "- Based on the new Monte Carlo simulation, answer the following questions in your Jupyter notebook:\n",
    "\n",
    "    - Using the current value of only the stock and bond portion of the member's portfolio and the summary statistics that you generated from the new Monte Carlo simulation, what are the lower and upper bounds for the expected value of the portfolio (with the new weights) with a 95% confidence interval?\n",
    "\n",
    "    - Will weighting the portfolio more heavily toward stocks allow the credit union members to retire after only 10 years?\n"
   ]
  },
  {
   "cell_type": "code",
   "execution_count": 43,
   "metadata": {},
   "outputs": [
    {
     "data": {
      "text/html": [
       "<div>\n",
       "<style scoped>\n",
       "    .dataframe tbody tr th:only-of-type {\n",
       "        vertical-align: middle;\n",
       "    }\n",
       "\n",
       "    .dataframe tbody tr th {\n",
       "        vertical-align: top;\n",
       "    }\n",
       "\n",
       "    .dataframe thead tr th {\n",
       "        text-align: left;\n",
       "    }\n",
       "\n",
       "    .dataframe thead tr:last-of-type th {\n",
       "        text-align: right;\n",
       "    }\n",
       "</style>\n",
       "<table border=\"1\" class=\"dataframe\">\n",
       "  <thead>\n",
       "    <tr>\n",
       "      <th></th>\n",
       "      <th colspan=\"8\" halign=\"left\">SPY</th>\n",
       "      <th colspan=\"8\" halign=\"left\">AGG</th>\n",
       "    </tr>\n",
       "    <tr>\n",
       "      <th></th>\n",
       "      <th>open</th>\n",
       "      <th>high</th>\n",
       "      <th>low</th>\n",
       "      <th>close</th>\n",
       "      <th>volume</th>\n",
       "      <th>trade_count</th>\n",
       "      <th>vwap</th>\n",
       "      <th>daily_return</th>\n",
       "      <th>open</th>\n",
       "      <th>high</th>\n",
       "      <th>low</th>\n",
       "      <th>close</th>\n",
       "      <th>volume</th>\n",
       "      <th>trade_count</th>\n",
       "      <th>vwap</th>\n",
       "      <th>daily_return</th>\n",
       "    </tr>\n",
       "    <tr>\n",
       "      <th>timestamp</th>\n",
       "      <th></th>\n",
       "      <th></th>\n",
       "      <th></th>\n",
       "      <th></th>\n",
       "      <th></th>\n",
       "      <th></th>\n",
       "      <th></th>\n",
       "      <th></th>\n",
       "      <th></th>\n",
       "      <th></th>\n",
       "      <th></th>\n",
       "      <th></th>\n",
       "      <th></th>\n",
       "      <th></th>\n",
       "      <th></th>\n",
       "      <th></th>\n",
       "    </tr>\n",
       "  </thead>\n",
       "  <tbody>\n",
       "    <tr>\n",
       "      <th>2019-07-29 04:00:00+00:00</th>\n",
       "      <td>301.85</td>\n",
       "      <td>302.01</td>\n",
       "      <td>300.85</td>\n",
       "      <td>301.46</td>\n",
       "      <td>38182966</td>\n",
       "      <td>185789</td>\n",
       "      <td>301.477510</td>\n",
       "      <td>NaN</td>\n",
       "      <td>111.30</td>\n",
       "      <td>111.35</td>\n",
       "      <td>111.22</td>\n",
       "      <td>111.26</td>\n",
       "      <td>4667109</td>\n",
       "      <td>9067</td>\n",
       "      <td>111.287204</td>\n",
       "      <td>NaN</td>\n",
       "    </tr>\n",
       "    <tr>\n",
       "      <th>2019-07-30 04:00:00+00:00</th>\n",
       "      <td>299.90</td>\n",
       "      <td>301.17</td>\n",
       "      <td>299.49</td>\n",
       "      <td>300.72</td>\n",
       "      <td>46360267</td>\n",
       "      <td>208893</td>\n",
       "      <td>300.597002</td>\n",
       "      <td>-0.002455</td>\n",
       "      <td>111.27</td>\n",
       "      <td>111.33</td>\n",
       "      <td>111.16</td>\n",
       "      <td>111.25</td>\n",
       "      <td>2409278</td>\n",
       "      <td>9125</td>\n",
       "      <td>111.240710</td>\n",
       "      <td>-0.000090</td>\n",
       "    </tr>\n",
       "    <tr>\n",
       "      <th>2019-07-31 04:00:00+00:00</th>\n",
       "      <td>300.98</td>\n",
       "      <td>301.20</td>\n",
       "      <td>295.20</td>\n",
       "      <td>297.43</td>\n",
       "      <td>104971212</td>\n",
       "      <td>537642</td>\n",
       "      <td>298.744183</td>\n",
       "      <td>-0.010940</td>\n",
       "      <td>111.30</td>\n",
       "      <td>111.59</td>\n",
       "      <td>111.07</td>\n",
       "      <td>111.30</td>\n",
       "      <td>12972717</td>\n",
       "      <td>17896</td>\n",
       "      <td>111.389988</td>\n",
       "      <td>0.000449</td>\n",
       "    </tr>\n",
       "    <tr>\n",
       "      <th>2019-08-01 04:00:00+00:00</th>\n",
       "      <td>297.56</td>\n",
       "      <td>300.87</td>\n",
       "      <td>293.96</td>\n",
       "      <td>294.84</td>\n",
       "      <td>142653060</td>\n",
       "      <td>771413</td>\n",
       "      <td>296.650886</td>\n",
       "      <td>-0.008708</td>\n",
       "      <td>111.34</td>\n",
       "      <td>111.95</td>\n",
       "      <td>111.26</td>\n",
       "      <td>111.91</td>\n",
       "      <td>5709211</td>\n",
       "      <td>22712</td>\n",
       "      <td>111.700343</td>\n",
       "      <td>0.005481</td>\n",
       "    </tr>\n",
       "    <tr>\n",
       "      <th>2019-08-02 04:00:00+00:00</th>\n",
       "      <td>293.86</td>\n",
       "      <td>294.12</td>\n",
       "      <td>290.90</td>\n",
       "      <td>292.62</td>\n",
       "      <td>118248370</td>\n",
       "      <td>552082</td>\n",
       "      <td>292.544668</td>\n",
       "      <td>-0.007530</td>\n",
       "      <td>111.93</td>\n",
       "      <td>112.04</td>\n",
       "      <td>111.82</td>\n",
       "      <td>111.95</td>\n",
       "      <td>3293739</td>\n",
       "      <td>16662</td>\n",
       "      <td>111.917417</td>\n",
       "      <td>0.000357</td>\n",
       "    </tr>\n",
       "  </tbody>\n",
       "</table>\n",
       "</div>"
      ],
      "text/plain": [
       "                              SPY                                     \\\n",
       "                             open    high     low   close     volume   \n",
       "timestamp                                                              \n",
       "2019-07-29 04:00:00+00:00  301.85  302.01  300.85  301.46   38182966   \n",
       "2019-07-30 04:00:00+00:00  299.90  301.17  299.49  300.72   46360267   \n",
       "2019-07-31 04:00:00+00:00  300.98  301.20  295.20  297.43  104971212   \n",
       "2019-08-01 04:00:00+00:00  297.56  300.87  293.96  294.84  142653060   \n",
       "2019-08-02 04:00:00+00:00  293.86  294.12  290.90  292.62  118248370   \n",
       "\n",
       "                                                                   AGG  \\\n",
       "                          trade_count        vwap daily_return    open   \n",
       "timestamp                                                                \n",
       "2019-07-29 04:00:00+00:00      185789  301.477510          NaN  111.30   \n",
       "2019-07-30 04:00:00+00:00      208893  300.597002    -0.002455  111.27   \n",
       "2019-07-31 04:00:00+00:00      537642  298.744183    -0.010940  111.30   \n",
       "2019-08-01 04:00:00+00:00      771413  296.650886    -0.008708  111.34   \n",
       "2019-08-02 04:00:00+00:00      552082  292.544668    -0.007530  111.93   \n",
       "\n",
       "                                                                         \\\n",
       "                             high     low   close    volume trade_count   \n",
       "timestamp                                                                 \n",
       "2019-07-29 04:00:00+00:00  111.35  111.22  111.26   4667109        9067   \n",
       "2019-07-30 04:00:00+00:00  111.33  111.16  111.25   2409278        9125   \n",
       "2019-07-31 04:00:00+00:00  111.59  111.07  111.30  12972717       17896   \n",
       "2019-08-01 04:00:00+00:00  111.95  111.26  111.91   5709211       22712   \n",
       "2019-08-02 04:00:00+00:00  112.04  111.82  111.95   3293739       16662   \n",
       "\n",
       "                                                    \n",
       "                                 vwap daily_return  \n",
       "timestamp                                           \n",
       "2019-07-29 04:00:00+00:00  111.287204          NaN  \n",
       "2019-07-30 04:00:00+00:00  111.240710    -0.000090  \n",
       "2019-07-31 04:00:00+00:00  111.389988     0.000449  \n",
       "2019-08-01 04:00:00+00:00  111.700343     0.005481  \n",
       "2019-08-02 04:00:00+00:00  111.917417     0.000357  "
      ]
     },
     "execution_count": 43,
     "metadata": {},
     "output_type": "execute_result"
    }
   ],
   "source": [
    "# Configure a Monte Carlo simulation to forecast 10 years cumulative returns\n",
    "# The weights should be split 20% to AGG and 80% to SPY.\n",
    "# Run 500 samples.\n",
    "MC_ten_years = MCSimulation(\n",
    "    portfolio_data= portfolio_prices,\n",
    "    weights=[.80,.20],\n",
    "    num_simulation=500,\n",
    "    num_trading_days=252*10\n",
    ")\n",
    "\n",
    "# Review the simulation input data\n",
    "MC_ten_years.portfolio_data.head()\n",
    "\n",
    "\n",
    "\n"
   ]
  },
  {
   "cell_type": "code",
   "execution_count": 44,
   "metadata": {},
   "outputs": [
    {
     "name": "stdout",
     "output_type": "stream",
     "text": [
      "Running Monte Carlo simulation number 0.\n",
      "Running Monte Carlo simulation number 10.\n",
      "Running Monte Carlo simulation number 20.\n",
      "Running Monte Carlo simulation number 30.\n",
      "Running Monte Carlo simulation number 40.\n",
      "Running Monte Carlo simulation number 50.\n",
      "Running Monte Carlo simulation number 60.\n",
      "Running Monte Carlo simulation number 70.\n",
      "Running Monte Carlo simulation number 80.\n",
      "Running Monte Carlo simulation number 90.\n",
      "Running Monte Carlo simulation number 100.\n"
     ]
    },
    {
     "name": "stderr",
     "output_type": "stream",
     "text": [
      "/Users/antiwanmaxwell/Desktop/Fintech_Lessons/challenge_assignments/mod_5_project/mod_5_challenge_assignment/MCForecastTools.py:117: PerformanceWarning: DataFrame is highly fragmented.  This is usually the result of calling `frame.insert` many times, which has poor performance.  Consider joining all columns at once using pd.concat(axis=1) instead.  To get a de-fragmented frame, use `newframe = frame.copy()`\n",
      "  portfolio_cumulative_returns[n] = (1 + sim_df.fillna(0)).cumprod()\n"
     ]
    },
    {
     "name": "stdout",
     "output_type": "stream",
     "text": [
      "Running Monte Carlo simulation number 110.\n",
      "Running Monte Carlo simulation number 120.\n",
      "Running Monte Carlo simulation number 130.\n",
      "Running Monte Carlo simulation number 140.\n",
      "Running Monte Carlo simulation number 150.\n",
      "Running Monte Carlo simulation number 160.\n",
      "Running Monte Carlo simulation number 170.\n",
      "Running Monte Carlo simulation number 180.\n",
      "Running Monte Carlo simulation number 190.\n",
      "Running Monte Carlo simulation number 200.\n",
      "Running Monte Carlo simulation number 210.\n",
      "Running Monte Carlo simulation number 220.\n",
      "Running Monte Carlo simulation number 230.\n",
      "Running Monte Carlo simulation number 240.\n",
      "Running Monte Carlo simulation number 250.\n",
      "Running Monte Carlo simulation number 260.\n",
      "Running Monte Carlo simulation number 270.\n",
      "Running Monte Carlo simulation number 280.\n",
      "Running Monte Carlo simulation number 290.\n",
      "Running Monte Carlo simulation number 300.\n",
      "Running Monte Carlo simulation number 310.\n",
      "Running Monte Carlo simulation number 320.\n",
      "Running Monte Carlo simulation number 330.\n",
      "Running Monte Carlo simulation number 340.\n",
      "Running Monte Carlo simulation number 350.\n",
      "Running Monte Carlo simulation number 360.\n",
      "Running Monte Carlo simulation number 370.\n",
      "Running Monte Carlo simulation number 380.\n",
      "Running Monte Carlo simulation number 390.\n",
      "Running Monte Carlo simulation number 400.\n",
      "Running Monte Carlo simulation number 410.\n",
      "Running Monte Carlo simulation number 420.\n",
      "Running Monte Carlo simulation number 430.\n",
      "Running Monte Carlo simulation number 440.\n",
      "Running Monte Carlo simulation number 450.\n",
      "Running Monte Carlo simulation number 460.\n",
      "Running Monte Carlo simulation number 470.\n",
      "Running Monte Carlo simulation number 480.\n",
      "Running Monte Carlo simulation number 490.\n"
     ]
    },
    {
     "data": {
      "text/html": [
       "<div>\n",
       "<style scoped>\n",
       "    .dataframe tbody tr th:only-of-type {\n",
       "        vertical-align: middle;\n",
       "    }\n",
       "\n",
       "    .dataframe tbody tr th {\n",
       "        vertical-align: top;\n",
       "    }\n",
       "\n",
       "    .dataframe thead th {\n",
       "        text-align: right;\n",
       "    }\n",
       "</style>\n",
       "<table border=\"1\" class=\"dataframe\">\n",
       "  <thead>\n",
       "    <tr style=\"text-align: right;\">\n",
       "      <th></th>\n",
       "      <th>0</th>\n",
       "      <th>1</th>\n",
       "      <th>2</th>\n",
       "      <th>3</th>\n",
       "      <th>4</th>\n",
       "      <th>5</th>\n",
       "      <th>6</th>\n",
       "      <th>7</th>\n",
       "      <th>8</th>\n",
       "      <th>9</th>\n",
       "      <th>...</th>\n",
       "      <th>490</th>\n",
       "      <th>491</th>\n",
       "      <th>492</th>\n",
       "      <th>493</th>\n",
       "      <th>494</th>\n",
       "      <th>495</th>\n",
       "      <th>496</th>\n",
       "      <th>497</th>\n",
       "      <th>498</th>\n",
       "      <th>499</th>\n",
       "    </tr>\n",
       "  </thead>\n",
       "  <tbody>\n",
       "    <tr>\n",
       "      <th>0</th>\n",
       "      <td>1.000000</td>\n",
       "      <td>1.000000</td>\n",
       "      <td>1.000000</td>\n",
       "      <td>1.000000</td>\n",
       "      <td>1.000000</td>\n",
       "      <td>1.000000</td>\n",
       "      <td>1.000000</td>\n",
       "      <td>1.000000</td>\n",
       "      <td>1.000000</td>\n",
       "      <td>1.000000</td>\n",
       "      <td>...</td>\n",
       "      <td>1.000000</td>\n",
       "      <td>1.000000</td>\n",
       "      <td>1.000000</td>\n",
       "      <td>1.000000</td>\n",
       "      <td>1.000000</td>\n",
       "      <td>1.000000</td>\n",
       "      <td>1.000000</td>\n",
       "      <td>1.000000</td>\n",
       "      <td>1.000000</td>\n",
       "      <td>1.000000</td>\n",
       "    </tr>\n",
       "    <tr>\n",
       "      <th>1</th>\n",
       "      <td>0.998728</td>\n",
       "      <td>0.994806</td>\n",
       "      <td>0.988196</td>\n",
       "      <td>1.020570</td>\n",
       "      <td>1.003775</td>\n",
       "      <td>0.999410</td>\n",
       "      <td>0.987109</td>\n",
       "      <td>1.006840</td>\n",
       "      <td>0.999194</td>\n",
       "      <td>1.018415</td>\n",
       "      <td>...</td>\n",
       "      <td>1.018342</td>\n",
       "      <td>1.012896</td>\n",
       "      <td>0.991077</td>\n",
       "      <td>0.981363</td>\n",
       "      <td>0.995386</td>\n",
       "      <td>0.988278</td>\n",
       "      <td>1.012645</td>\n",
       "      <td>1.001042</td>\n",
       "      <td>0.986706</td>\n",
       "      <td>0.989038</td>\n",
       "    </tr>\n",
       "    <tr>\n",
       "      <th>2</th>\n",
       "      <td>0.988133</td>\n",
       "      <td>1.004133</td>\n",
       "      <td>0.948647</td>\n",
       "      <td>1.002027</td>\n",
       "      <td>1.007266</td>\n",
       "      <td>0.983191</td>\n",
       "      <td>0.981469</td>\n",
       "      <td>1.023844</td>\n",
       "      <td>0.992753</td>\n",
       "      <td>1.016866</td>\n",
       "      <td>...</td>\n",
       "      <td>1.004029</td>\n",
       "      <td>1.001944</td>\n",
       "      <td>0.987017</td>\n",
       "      <td>0.964181</td>\n",
       "      <td>1.006457</td>\n",
       "      <td>1.007735</td>\n",
       "      <td>0.989804</td>\n",
       "      <td>1.036098</td>\n",
       "      <td>0.990123</td>\n",
       "      <td>0.983449</td>\n",
       "    </tr>\n",
       "    <tr>\n",
       "      <th>3</th>\n",
       "      <td>1.003617</td>\n",
       "      <td>0.994581</td>\n",
       "      <td>0.945585</td>\n",
       "      <td>1.034691</td>\n",
       "      <td>1.021575</td>\n",
       "      <td>0.967070</td>\n",
       "      <td>0.980049</td>\n",
       "      <td>0.995972</td>\n",
       "      <td>0.994028</td>\n",
       "      <td>1.034778</td>\n",
       "      <td>...</td>\n",
       "      <td>0.977455</td>\n",
       "      <td>0.985107</td>\n",
       "      <td>0.988345</td>\n",
       "      <td>0.978847</td>\n",
       "      <td>1.017449</td>\n",
       "      <td>1.015205</td>\n",
       "      <td>0.981228</td>\n",
       "      <td>1.042892</td>\n",
       "      <td>0.998438</td>\n",
       "      <td>0.995288</td>\n",
       "    </tr>\n",
       "    <tr>\n",
       "      <th>4</th>\n",
       "      <td>0.993485</td>\n",
       "      <td>1.008574</td>\n",
       "      <td>0.952184</td>\n",
       "      <td>1.044051</td>\n",
       "      <td>1.015503</td>\n",
       "      <td>0.978995</td>\n",
       "      <td>0.976814</td>\n",
       "      <td>0.992790</td>\n",
       "      <td>1.006948</td>\n",
       "      <td>1.027582</td>\n",
       "      <td>...</td>\n",
       "      <td>0.985231</td>\n",
       "      <td>0.975755</td>\n",
       "      <td>0.973155</td>\n",
       "      <td>0.980261</td>\n",
       "      <td>1.024498</td>\n",
       "      <td>1.032575</td>\n",
       "      <td>0.982563</td>\n",
       "      <td>1.049581</td>\n",
       "      <td>1.009028</td>\n",
       "      <td>0.997194</td>\n",
       "    </tr>\n",
       "    <tr>\n",
       "      <th>...</th>\n",
       "      <td>...</td>\n",
       "      <td>...</td>\n",
       "      <td>...</td>\n",
       "      <td>...</td>\n",
       "      <td>...</td>\n",
       "      <td>...</td>\n",
       "      <td>...</td>\n",
       "      <td>...</td>\n",
       "      <td>...</td>\n",
       "      <td>...</td>\n",
       "      <td>...</td>\n",
       "      <td>...</td>\n",
       "      <td>...</td>\n",
       "      <td>...</td>\n",
       "      <td>...</td>\n",
       "      <td>...</td>\n",
       "      <td>...</td>\n",
       "      <td>...</td>\n",
       "      <td>...</td>\n",
       "      <td>...</td>\n",
       "      <td>...</td>\n",
       "    </tr>\n",
       "    <tr>\n",
       "      <th>2516</th>\n",
       "      <td>3.409913</td>\n",
       "      <td>1.465722</td>\n",
       "      <td>3.217454</td>\n",
       "      <td>3.850055</td>\n",
       "      <td>4.195007</td>\n",
       "      <td>2.014228</td>\n",
       "      <td>1.507925</td>\n",
       "      <td>3.694302</td>\n",
       "      <td>2.141882</td>\n",
       "      <td>0.813585</td>\n",
       "      <td>...</td>\n",
       "      <td>2.755524</td>\n",
       "      <td>2.618554</td>\n",
       "      <td>1.926358</td>\n",
       "      <td>1.399079</td>\n",
       "      <td>0.498861</td>\n",
       "      <td>2.233558</td>\n",
       "      <td>2.501760</td>\n",
       "      <td>0.912364</td>\n",
       "      <td>2.659523</td>\n",
       "      <td>1.350563</td>\n",
       "    </tr>\n",
       "    <tr>\n",
       "      <th>2517</th>\n",
       "      <td>3.382063</td>\n",
       "      <td>1.473152</td>\n",
       "      <td>3.156726</td>\n",
       "      <td>3.880926</td>\n",
       "      <td>4.225653</td>\n",
       "      <td>2.033808</td>\n",
       "      <td>1.509732</td>\n",
       "      <td>3.660950</td>\n",
       "      <td>2.170089</td>\n",
       "      <td>0.816095</td>\n",
       "      <td>...</td>\n",
       "      <td>2.757883</td>\n",
       "      <td>2.616234</td>\n",
       "      <td>1.907223</td>\n",
       "      <td>1.407638</td>\n",
       "      <td>0.490631</td>\n",
       "      <td>2.243201</td>\n",
       "      <td>2.508309</td>\n",
       "      <td>0.920086</td>\n",
       "      <td>2.621697</td>\n",
       "      <td>1.329692</td>\n",
       "    </tr>\n",
       "    <tr>\n",
       "      <th>2518</th>\n",
       "      <td>3.439001</td>\n",
       "      <td>1.493787</td>\n",
       "      <td>3.121119</td>\n",
       "      <td>3.834161</td>\n",
       "      <td>4.155924</td>\n",
       "      <td>2.038816</td>\n",
       "      <td>1.491399</td>\n",
       "      <td>3.681363</td>\n",
       "      <td>2.136488</td>\n",
       "      <td>0.819931</td>\n",
       "      <td>...</td>\n",
       "      <td>2.809651</td>\n",
       "      <td>2.637848</td>\n",
       "      <td>1.895139</td>\n",
       "      <td>1.402565</td>\n",
       "      <td>0.495706</td>\n",
       "      <td>2.266186</td>\n",
       "      <td>2.527545</td>\n",
       "      <td>0.926731</td>\n",
       "      <td>2.665937</td>\n",
       "      <td>1.317412</td>\n",
       "    </tr>\n",
       "    <tr>\n",
       "      <th>2519</th>\n",
       "      <td>3.419448</td>\n",
       "      <td>1.461410</td>\n",
       "      <td>3.146065</td>\n",
       "      <td>3.891727</td>\n",
       "      <td>4.100734</td>\n",
       "      <td>2.035849</td>\n",
       "      <td>1.484022</td>\n",
       "      <td>3.629878</td>\n",
       "      <td>2.139324</td>\n",
       "      <td>0.806653</td>\n",
       "      <td>...</td>\n",
       "      <td>2.785520</td>\n",
       "      <td>2.629394</td>\n",
       "      <td>1.870723</td>\n",
       "      <td>1.401357</td>\n",
       "      <td>0.489688</td>\n",
       "      <td>2.268653</td>\n",
       "      <td>2.508132</td>\n",
       "      <td>0.917564</td>\n",
       "      <td>2.654866</td>\n",
       "      <td>1.325002</td>\n",
       "    </tr>\n",
       "    <tr>\n",
       "      <th>2520</th>\n",
       "      <td>3.430705</td>\n",
       "      <td>1.457728</td>\n",
       "      <td>3.173011</td>\n",
       "      <td>3.819860</td>\n",
       "      <td>4.115269</td>\n",
       "      <td>2.022077</td>\n",
       "      <td>1.509620</td>\n",
       "      <td>3.565897</td>\n",
       "      <td>2.130795</td>\n",
       "      <td>0.790828</td>\n",
       "      <td>...</td>\n",
       "      <td>2.796069</td>\n",
       "      <td>2.599057</td>\n",
       "      <td>1.882476</td>\n",
       "      <td>1.390861</td>\n",
       "      <td>0.495984</td>\n",
       "      <td>2.215860</td>\n",
       "      <td>2.525501</td>\n",
       "      <td>0.908675</td>\n",
       "      <td>2.617697</td>\n",
       "      <td>1.309483</td>\n",
       "    </tr>\n",
       "  </tbody>\n",
       "</table>\n",
       "<p>2521 rows × 500 columns</p>\n",
       "</div>"
      ],
      "text/plain": [
       "           0         1         2         3         4         5         6    \\\n",
       "0     1.000000  1.000000  1.000000  1.000000  1.000000  1.000000  1.000000   \n",
       "1     0.998728  0.994806  0.988196  1.020570  1.003775  0.999410  0.987109   \n",
       "2     0.988133  1.004133  0.948647  1.002027  1.007266  0.983191  0.981469   \n",
       "3     1.003617  0.994581  0.945585  1.034691  1.021575  0.967070  0.980049   \n",
       "4     0.993485  1.008574  0.952184  1.044051  1.015503  0.978995  0.976814   \n",
       "...        ...       ...       ...       ...       ...       ...       ...   \n",
       "2516  3.409913  1.465722  3.217454  3.850055  4.195007  2.014228  1.507925   \n",
       "2517  3.382063  1.473152  3.156726  3.880926  4.225653  2.033808  1.509732   \n",
       "2518  3.439001  1.493787  3.121119  3.834161  4.155924  2.038816  1.491399   \n",
       "2519  3.419448  1.461410  3.146065  3.891727  4.100734  2.035849  1.484022   \n",
       "2520  3.430705  1.457728  3.173011  3.819860  4.115269  2.022077  1.509620   \n",
       "\n",
       "           7         8         9    ...       490       491       492  \\\n",
       "0     1.000000  1.000000  1.000000  ...  1.000000  1.000000  1.000000   \n",
       "1     1.006840  0.999194  1.018415  ...  1.018342  1.012896  0.991077   \n",
       "2     1.023844  0.992753  1.016866  ...  1.004029  1.001944  0.987017   \n",
       "3     0.995972  0.994028  1.034778  ...  0.977455  0.985107  0.988345   \n",
       "4     0.992790  1.006948  1.027582  ...  0.985231  0.975755  0.973155   \n",
       "...        ...       ...       ...  ...       ...       ...       ...   \n",
       "2516  3.694302  2.141882  0.813585  ...  2.755524  2.618554  1.926358   \n",
       "2517  3.660950  2.170089  0.816095  ...  2.757883  2.616234  1.907223   \n",
       "2518  3.681363  2.136488  0.819931  ...  2.809651  2.637848  1.895139   \n",
       "2519  3.629878  2.139324  0.806653  ...  2.785520  2.629394  1.870723   \n",
       "2520  3.565897  2.130795  0.790828  ...  2.796069  2.599057  1.882476   \n",
       "\n",
       "           493       494       495       496       497       498       499  \n",
       "0     1.000000  1.000000  1.000000  1.000000  1.000000  1.000000  1.000000  \n",
       "1     0.981363  0.995386  0.988278  1.012645  1.001042  0.986706  0.989038  \n",
       "2     0.964181  1.006457  1.007735  0.989804  1.036098  0.990123  0.983449  \n",
       "3     0.978847  1.017449  1.015205  0.981228  1.042892  0.998438  0.995288  \n",
       "4     0.980261  1.024498  1.032575  0.982563  1.049581  1.009028  0.997194  \n",
       "...        ...       ...       ...       ...       ...       ...       ...  \n",
       "2516  1.399079  0.498861  2.233558  2.501760  0.912364  2.659523  1.350563  \n",
       "2517  1.407638  0.490631  2.243201  2.508309  0.920086  2.621697  1.329692  \n",
       "2518  1.402565  0.495706  2.266186  2.527545  0.926731  2.665937  1.317412  \n",
       "2519  1.401357  0.489688  2.268653  2.508132  0.917564  2.654866  1.325002  \n",
       "2520  1.390861  0.495984  2.215860  2.525501  0.908675  2.617697  1.309483  \n",
       "\n",
       "[2521 rows x 500 columns]"
      ]
     },
     "execution_count": 44,
     "metadata": {},
     "output_type": "execute_result"
    }
   ],
   "source": [
    "# Run the Monte Carlo simulation to forecast 10 years cumulative returns\n",
    "MC_ten_years.calc_cumulative_return()"
   ]
  },
  {
   "cell_type": "code",
   "execution_count": 45,
   "metadata": {},
   "outputs": [
    {
     "data": {
      "text/plain": [
       "<AxesSubplot:title={'center':'500 Simulations of Cumulative Portfolio Return Trajectories Over the Next 2520 Trading Days.'}>"
      ]
     },
     "execution_count": 45,
     "metadata": {},
     "output_type": "execute_result"
    },
    {
     "data": {
      "image/png": "[encoded data removed]",
      "text/plain": [
       "<Figure size 432x288 with 1 Axes>"
      ]
     },
     "metadata": {
      "needs_background": "light"
     },
     "output_type": "display_data"
    }
   ],
   "source": [
    "# Visualize the 10-year Monte Carlo simulation by creating an\n",
    "# overlay line plot\n",
    "mc_ten_years_plot =  MC_ten_years.plot_simulation()\n",
    "mc_ten_years_plot"
   ]
  },
  {
   "cell_type": "code",
   "execution_count": 40,
   "metadata": {},
   "outputs": [
    {
     "data": {
      "text/plain": [
       "<AxesSubplot:title={'center':'Distribution of Final Cumuluative Returns Across All 500 Simulations'}, ylabel='Frequency'>"
      ]
     },
     "execution_count": 40,
     "metadata": {},
     "output_type": "execute_result"
    },
    {
     "data": {
      "image/png": "[encoded data removed]",
      "text/plain": [
       "<Figure size 432x288 with 1 Axes>"
      ]
     },
     "metadata": {
      "needs_background": "light"
     },
     "output_type": "display_data"
    }
   ],
   "source": [
    "# Visualize the probability distribution of the 10-year Monte Carlo simulation \n",
    "# by plotting a histogram\n",
    "MC_ten_years.plot_distribution()"
   ]
  },
  {
   "cell_type": "code",
   "execution_count": 46,
   "metadata": {},
   "outputs": [
    {
     "data": {
      "text/plain": [
       "count           500.000000\n",
       "mean              2.664603\n",
       "std               2.010704\n",
       "min               0.384774\n",
       "25%               1.419397\n",
       "50%               2.212709\n",
       "75%               3.409491\n",
       "max              25.324579\n",
       "95% CI Lower      0.650897\n",
       "95% CI Upper      7.142559\n",
       "Name: 2520, dtype: float64"
      ]
     },
     "execution_count": 46,
     "metadata": {},
     "output_type": "execute_result"
    }
   ],
   "source": [
    "# Generate summary statistics from the 10-year Monte Carlo simulation results\n",
    "# Save the results as a variable\n",
    "mc_ten_years_summary = MC_ten_years.summarize_cumulative_return()\n",
    "\n",
    "\n",
    "# Review the 10-year Monte Carlo summary statistics\n",
    "mc_ten_years_summary"
   ]
  },
  {
   "cell_type": "markdown",
   "metadata": {},
   "source": [
    "### Answer the following questions:"
   ]
  },
  {
   "cell_type": "markdown",
   "metadata": {},
   "source": [
    "#### Question: Using the current value of only the stock and bond portion of the member's portfolio and the summary statistics that you generated from the new Monte Carlo simulation, what are the lower and upper bounds for the expected value of the portfolio (with the new weights) with a 95% confidence interval?"
   ]
  },
  {
   "cell_type": "code",
   "execution_count": 52,
   "metadata": {},
   "outputs": [
    {
     "name": "stdout",
     "output_type": "stream",
     "text": [
      " The current balance of total_stocks_bonds 66132.90\n"
     ]
    }
   ],
   "source": [
    "# Print the current balance of the stock and bond portion of the members portfolio\n",
    "print(f\" The current balance of total_stocks_bonds{total_stocks_bonds: .2f}\")"
   ]
  },
  {
   "cell_type": "code",
   "execution_count": 53,
   "metadata": {},
   "outputs": [
    {
     "name": "stdout",
     "output_type": "stream",
     "text": [
      "There is a 95% chance that an initial investment of $66132.9 in the portfolio over the next 10 years will end within in the range of $ 43045.71 and $ 472358.14.\n"
     ]
    }
   ],
   "source": [
    "# Use the lower and upper `95%` confidence intervals to calculate the range of the possible outcomes for the current stock/bond portfolio\n",
    "ci_lower_ten_cumulative_return = mc_ten_years_summary[8] * total_stocks_bonds\n",
    "ci_upper_ten_cumulative_return = mc_ten_years_summary[9] * total_stocks_bonds\n",
    "\n",
    "# Print the result of your calculations\n",
    "print(f\"There is a 95% chance that an initial investment of ${total_stocks_bonds} in the portfolio\"\n",
    "    f\" over the next 10 years will end within in the range of\"\n",
    "    f\" ${ci_lower_ten_cumulative_return: .2f} and ${ci_upper_ten_cumulative_return: .2f}.\")"
   ]
  },
  {
   "cell_type": "markdown",
   "metadata": {},
   "source": [
    "#### Question: Will weighting the portfolio more heavily to stocks allow the credit union members to retire after only 10 years?"
   ]
  },
  {
   "cell_type": "raw",
   "metadata": {},
   "source": [
    "**Answer** The member will not have enough funds in their retirment account to retire in 10 years. "
   ]
  },
  {
   "cell_type": "code",
   "execution_count": null,
   "metadata": {},
   "outputs": [],
   "source": []
  }
 ],
 "metadata": {
  "kernelspec": {
   "display_name": "Python 3 (ipykernel)",
   "language": "python",
   "name": "python3"
  },
  "language_info": {
   "codemirror_mode": {
    "name": "ipython",
    "version": 3
   },
   "file_extension": ".py",
   "mimetype": "text/x-python",
   "name": "python",
   "nbconvert_exporter": "python",
   "pygments_lexer": "ipython3",
   "version": "3.9.7"
  }
 },
 "nbformat": 4,
 "nbformat_minor": 4
}
